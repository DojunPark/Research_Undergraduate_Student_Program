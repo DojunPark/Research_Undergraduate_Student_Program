{
  "nbformat": 4,
  "nbformat_minor": 0,
  "metadata": {
    "colab": {
      "name": "[machinetranslation] 04_making dataset 800k.ipynb",
      "provenance": [],
      "mount_file_id": "1Z3OsWLL2Z8avepYSO5YJgmNFn4OZe68F",
      "authorship_tag": "ABX9TyPxMyTSwwGecRZBrit2pPpt",
      "include_colab_link": true
    },
    "kernelspec": {
      "name": "python3",
      "display_name": "Python 3"
    }
  },
  "cells": [
    {
      "cell_type": "markdown",
      "metadata": {
        "id": "view-in-github",
        "colab_type": "text"
      },
      "source": [
        "<a href=\"https://colab.research.google.com/github/DojunPark/Research_Undergraduate_Student_Program/blob/master/%5Bmachinetranslation%5D%2004_making_dataset_800k.ipynb\" target=\"_parent\"><img src=\"https://colab.research.google.com/assets/colab-badge.svg\" alt=\"Open In Colab\"/></a>"
      ]
    },
    {
      "cell_type": "markdown",
      "metadata": {
        "id": "H8R40WFBmY4F"
      },
      "source": [
        "- 현재 위치"
      ]
    },
    {
      "cell_type": "code",
      "metadata": {
        "id": "P2bpSlkxgFGz",
        "outputId": "e393c90f-99de-45fa-aec5-1c0ed993c3bb",
        "colab": {
          "base_uri": "https://localhost:8080/",
          "height": 36
        }
      },
      "source": [
        "pwd"
      ],
      "execution_count": 1,
      "outputs": [
        {
          "output_type": "execute_result",
          "data": {
            "application/vnd.google.colaboratory.intrinsic+json": {
              "type": "string"
            },
            "text/plain": [
              "'/content'"
            ]
          },
          "metadata": {
            "tags": []
          },
          "execution_count": 1
        }
      ]
    },
    {
      "cell_type": "markdown",
      "metadata": {
        "id": "FEcriKD6mdNv"
      },
      "source": [
        "- 데이터 불러오기"
      ]
    },
    {
      "cell_type": "code",
      "metadata": {
        "id": "5pigRxZzgSvN"
      },
      "source": [
        "import pandas as pd\n",
        "\n",
        "df1 = pd.read_excel('/content/drive/My Drive/Colab Notebooks/3_문어체_뉴스(1)_200226.xlsx')\n",
        "df2 = pd.read_excel('/content/drive/My Drive/Colab Notebooks/3_문어체_뉴스(2)_200226.xlsx')\n",
        "df3 = pd.read_excel('/content/drive/My Drive/Colab Notebooks/3_문어체_뉴스(3)_200226.xlsx')\n",
        "df4 = pd.read_excel('/content/drive/My Drive/Colab Notebooks/3_문어체_뉴스(4)_200226.xlsx')"
      ],
      "execution_count": 6,
      "outputs": []
    },
    {
      "cell_type": "markdown",
      "metadata": {
        "id": "B1xBj7_emfNN"
      },
      "source": [
        "- 데이터 구조 확인하기"
      ]
    },
    {
      "cell_type": "code",
      "metadata": {
        "id": "uNJS0-PYgSxd",
        "outputId": "01cee194-703e-44dc-bc8b-97c95a74c09d",
        "colab": {
          "base_uri": "https://localhost:8080/",
          "height": 166
        }
      },
      "source": [
        "df1.head(1)"
      ],
      "execution_count": 9,
      "outputs": [
        {
          "output_type": "execute_result",
          "data": {
            "text/html": [
              "<div>\n",
              "<style scoped>\n",
              "    .dataframe tbody tr th:only-of-type {\n",
              "        vertical-align: middle;\n",
              "    }\n",
              "\n",
              "    .dataframe tbody tr th {\n",
              "        vertical-align: top;\n",
              "    }\n",
              "\n",
              "    .dataframe thead th {\n",
              "        text-align: right;\n",
              "    }\n",
              "</style>\n",
              "<table border=\"1\" class=\"dataframe\">\n",
              "  <thead>\n",
              "    <tr style=\"text-align: right;\">\n",
              "      <th></th>\n",
              "      <th>ID</th>\n",
              "      <th>날짜</th>\n",
              "      <th>자동분류1</th>\n",
              "      <th>자동분류2</th>\n",
              "      <th>자동분류3</th>\n",
              "      <th>URL</th>\n",
              "      <th>언론사</th>\n",
              "      <th>원문</th>\n",
              "      <th>번역문</th>\n",
              "    </tr>\n",
              "  </thead>\n",
              "  <tbody>\n",
              "    <tr>\n",
              "      <th>0</th>\n",
              "      <td>20961563</td>\n",
              "      <td>2018-10-01 00:00:00</td>\n",
              "      <td>경제,국제경제</td>\n",
              "      <td>IT_과학,IT_과학일반</td>\n",
              "      <td>문화,문화일반</td>\n",
              "      <td>http://www.sedaily.com/NewsView/1S5QRSR5T2</td>\n",
              "      <td>서울경제</td>\n",
              "      <td>스키너가 말한 보상은 대부분 눈으로 볼 수 있는 현물이다.</td>\n",
              "      <td>Skinner's reward is mostly eye-watering.</td>\n",
              "    </tr>\n",
              "  </tbody>\n",
              "</table>\n",
              "</div>"
            ],
            "text/plain": [
              "         ID  ...                                       번역문\n",
              "0  20961563  ...  Skinner's reward is mostly eye-watering.\n",
              "\n",
              "[1 rows x 9 columns]"
            ]
          },
          "metadata": {
            "tags": []
          },
          "execution_count": 9
        }
      ]
    },
    {
      "cell_type": "code",
      "metadata": {
        "id": "JbcwOqRcgS4j",
        "outputId": "7df0c658-7bd2-4572-e62c-e0981eb7b1fe",
        "colab": {
          "base_uri": "https://localhost:8080/",
          "height": 114
        }
      },
      "source": [
        "df2.head(1)"
      ],
      "execution_count": 10,
      "outputs": [
        {
          "output_type": "execute_result",
          "data": {
            "text/html": [
              "<div>\n",
              "<style scoped>\n",
              "    .dataframe tbody tr th:only-of-type {\n",
              "        vertical-align: middle;\n",
              "    }\n",
              "\n",
              "    .dataframe tbody tr th {\n",
              "        vertical-align: top;\n",
              "    }\n",
              "\n",
              "    .dataframe thead th {\n",
              "        text-align: right;\n",
              "    }\n",
              "</style>\n",
              "<table border=\"1\" class=\"dataframe\">\n",
              "  <thead>\n",
              "    <tr style=\"text-align: right;\">\n",
              "      <th></th>\n",
              "      <th>ID</th>\n",
              "      <th>날짜</th>\n",
              "      <th>자동분류1</th>\n",
              "      <th>자동분류2</th>\n",
              "      <th>자동분류3</th>\n",
              "      <th>URL</th>\n",
              "      <th>언론사</th>\n",
              "      <th>원문</th>\n",
              "      <th>번역문</th>\n",
              "    </tr>\n",
              "  </thead>\n",
              "  <tbody>\n",
              "    <tr>\n",
              "      <th>0</th>\n",
              "      <td>21264723</td>\n",
              "      <td>2019-02-08 00:00:00</td>\n",
              "      <td>문화,생활</td>\n",
              "      <td>문화,방송_연예</td>\n",
              "      <td>NaN</td>\n",
              "      <td>http://www.sedaily.com/NewsView/1VF8ECR1Y7</td>\n",
              "      <td>서울경제</td>\n",
              "      <td>흠 잡힐 만한 일은 피하는 게 좋다.</td>\n",
              "      <td>Avoid flawed things.</td>\n",
              "    </tr>\n",
              "  </tbody>\n",
              "</table>\n",
              "</div>"
            ],
            "text/plain": [
              "         ID                   날짜  ...                    원문                   번역문\n",
              "0  21264723  2019-02-08 00:00:00  ...  흠 잡힐 만한 일은 피하는 게 좋다.  Avoid flawed things.\n",
              "\n",
              "[1 rows x 9 columns]"
            ]
          },
          "metadata": {
            "tags": []
          },
          "execution_count": 10
        }
      ]
    },
    {
      "cell_type": "code",
      "metadata": {
        "id": "v8ZG3UkAgS7P",
        "outputId": "33a9c37d-03ac-43fc-85b8-4d146c74044d",
        "colab": {
          "base_uri": "https://localhost:8080/",
          "height": 114
        }
      },
      "source": [
        "df3.head(1)"
      ],
      "execution_count": 11,
      "outputs": [
        {
          "output_type": "execute_result",
          "data": {
            "text/html": [
              "<div>\n",
              "<style scoped>\n",
              "    .dataframe tbody tr th:only-of-type {\n",
              "        vertical-align: middle;\n",
              "    }\n",
              "\n",
              "    .dataframe tbody tr th {\n",
              "        vertical-align: top;\n",
              "    }\n",
              "\n",
              "    .dataframe thead th {\n",
              "        text-align: right;\n",
              "    }\n",
              "</style>\n",
              "<table border=\"1\" class=\"dataframe\">\n",
              "  <thead>\n",
              "    <tr style=\"text-align: right;\">\n",
              "      <th></th>\n",
              "      <th>ID</th>\n",
              "      <th>날짜</th>\n",
              "      <th>자동분류1</th>\n",
              "      <th>자동분류2</th>\n",
              "      <th>자동분류3</th>\n",
              "      <th>URL</th>\n",
              "      <th>언론사</th>\n",
              "      <th>원문</th>\n",
              "      <th>번역문</th>\n",
              "    </tr>\n",
              "  </thead>\n",
              "  <tbody>\n",
              "    <tr>\n",
              "      <th>0</th>\n",
              "      <td>20261311</td>\n",
              "      <td>20190306</td>\n",
              "      <td>문화,학술_문화재</td>\n",
              "      <td>문화,방송_연예</td>\n",
              "      <td>문화,출판</td>\n",
              "      <td>http://news.kmib.co.kr/article/view.asp?arcid=...</td>\n",
              "      <td>국민일보</td>\n",
              "      <td>그녀가 할 수 있는 것은 우는 것이었습니다.</td>\n",
              "      <td>All she could do was cry.</td>\n",
              "    </tr>\n",
              "  </tbody>\n",
              "</table>\n",
              "</div>"
            ],
            "text/plain": [
              "         ID        날짜  ...                        원문                        번역문\n",
              "0  20261311  20190306  ...  그녀가 할 수 있는 것은 우는 것이었습니다.  All she could do was cry.\n",
              "\n",
              "[1 rows x 9 columns]"
            ]
          },
          "metadata": {
            "tags": []
          },
          "execution_count": 11
        }
      ]
    },
    {
      "cell_type": "code",
      "metadata": {
        "id": "AulPKlougS2o",
        "outputId": "8bb3c72e-d12c-45d7-dd2d-47881d97a351",
        "colab": {
          "base_uri": "https://localhost:8080/",
          "height": 114
        }
      },
      "source": [
        "df4.head(1)"
      ],
      "execution_count": 12,
      "outputs": [
        {
          "output_type": "execute_result",
          "data": {
            "text/html": [
              "<div>\n",
              "<style scoped>\n",
              "    .dataframe tbody tr th:only-of-type {\n",
              "        vertical-align: middle;\n",
              "    }\n",
              "\n",
              "    .dataframe tbody tr th {\n",
              "        vertical-align: top;\n",
              "    }\n",
              "\n",
              "    .dataframe thead th {\n",
              "        text-align: right;\n",
              "    }\n",
              "</style>\n",
              "<table border=\"1\" class=\"dataframe\">\n",
              "  <thead>\n",
              "    <tr style=\"text-align: right;\">\n",
              "      <th></th>\n",
              "      <th>ID</th>\n",
              "      <th>날짜</th>\n",
              "      <th>자동분류1</th>\n",
              "      <th>자동분류2</th>\n",
              "      <th>자동분류3</th>\n",
              "      <th>URL</th>\n",
              "      <th>언론사</th>\n",
              "      <th>원문</th>\n",
              "      <th>번역문</th>\n",
              "    </tr>\n",
              "  </thead>\n",
              "  <tbody>\n",
              "    <tr>\n",
              "      <th>0</th>\n",
              "      <td>20918143</td>\n",
              "      <td>20180910</td>\n",
              "      <td>국제,중국</td>\n",
              "      <td>사회,사회일반</td>\n",
              "      <td>NaN</td>\n",
              "      <td>http://www.sedaily.com/NewsView/1S4KZ97HA7</td>\n",
              "      <td>서울경제</td>\n",
              "      <td>그 이후 그의 행방이 알려지지 않은 상황이다.</td>\n",
              "      <td>Since then, his whereabouts are unknown.</td>\n",
              "    </tr>\n",
              "  </tbody>\n",
              "</table>\n",
              "</div>"
            ],
            "text/plain": [
              "         ID  ...                                       번역문\n",
              "0  20918143  ...  Since then, his whereabouts are unknown.\n",
              "\n",
              "[1 rows x 9 columns]"
            ]
          },
          "metadata": {
            "tags": []
          },
          "execution_count": 12
        }
      ]
    },
    {
      "cell_type": "markdown",
      "metadata": {
        "id": "KUe1eRIamkpx"
      },
      "source": [
        "- 데이터 차원 확인하기"
      ]
    },
    {
      "cell_type": "code",
      "metadata": {
        "id": "ZJt7iWRjjA0m",
        "outputId": "41c59992-a448-4a75-ebd4-3d1176957a38",
        "colab": {
          "base_uri": "https://localhost:8080/",
          "height": 92
        }
      },
      "source": [
        "print(df1.shape)\n",
        "print(df2.shape)\n",
        "print(df3.shape)\n",
        "print(df4.shape)"
      ],
      "execution_count": 16,
      "outputs": [
        {
          "output_type": "stream",
          "text": [
            "(200011, 9)\n",
            "(200541, 9)\n",
            "(200835, 9)\n",
            "(200000, 9)\n"
          ],
          "name": "stdout"
        }
      ]
    },
    {
      "cell_type": "markdown",
      "metadata": {
        "id": "mmbrUdO5mpMP"
      },
      "source": [
        "- 데이터 병합하기"
      ]
    },
    {
      "cell_type": "code",
      "metadata": {
        "id": "qkhsreKtgS0g",
        "outputId": "6c067f74-ad1b-4e98-b44f-575287f68b7a",
        "colab": {
          "base_uri": "https://localhost:8080/",
          "height": 36
        }
      },
      "source": [
        "df = pd.concat([df1, df2, df3, df4], axis=0)\n",
        "df.shape"
      ],
      "execution_count": 13,
      "outputs": [
        {
          "output_type": "execute_result",
          "data": {
            "text/plain": [
              "(801387, 9)"
            ]
          },
          "metadata": {
            "tags": []
          },
          "execution_count": 13
        }
      ]
    },
    {
      "cell_type": "code",
      "metadata": {
        "id": "ygg_SekIjA5l",
        "outputId": "117c7da9-23ef-42f9-ef98-692ff02206e4",
        "colab": {
          "base_uri": "https://localhost:8080/",
          "height": 927
        }
      },
      "source": [
        "df.sample(10)"
      ],
      "execution_count": 17,
      "outputs": [
        {
          "output_type": "execute_result",
          "data": {
            "text/html": [
              "<div>\n",
              "<style scoped>\n",
              "    .dataframe tbody tr th:only-of-type {\n",
              "        vertical-align: middle;\n",
              "    }\n",
              "\n",
              "    .dataframe tbody tr th {\n",
              "        vertical-align: top;\n",
              "    }\n",
              "\n",
              "    .dataframe thead th {\n",
              "        text-align: right;\n",
              "    }\n",
              "</style>\n",
              "<table border=\"1\" class=\"dataframe\">\n",
              "  <thead>\n",
              "    <tr style=\"text-align: right;\">\n",
              "      <th></th>\n",
              "      <th>ID</th>\n",
              "      <th>날짜</th>\n",
              "      <th>자동분류1</th>\n",
              "      <th>자동분류2</th>\n",
              "      <th>자동분류3</th>\n",
              "      <th>URL</th>\n",
              "      <th>언론사</th>\n",
              "      <th>원문</th>\n",
              "      <th>번역문</th>\n",
              "    </tr>\n",
              "  </thead>\n",
              "  <tbody>\n",
              "    <tr>\n",
              "      <th>140164</th>\n",
              "      <td>1558494</td>\n",
              "      <td>20180619</td>\n",
              "      <td>정치,북한</td>\n",
              "      <td>국제,중국</td>\n",
              "      <td>정치,외교</td>\n",
              "      <td>http://www.naeil.com/news_view/?id_art=279201</td>\n",
              "      <td>내일신문</td>\n",
              "      <td>이와 별도로 김 위원장이 국내시찰 때 이용하는 안토노프(AN)-148 기종인 고려항...</td>\n",
              "      <td>Separately, a special plane of Air Koryo Fligh...</td>\n",
              "    </tr>\n",
              "    <tr>\n",
              "      <th>26461</th>\n",
              "      <td>21654052</td>\n",
              "      <td>20190321</td>\n",
              "      <td>국제,중국</td>\n",
              "      <td>NaN</td>\n",
              "      <td>NaN</td>\n",
              "      <td>http://www.fnnews.com/news/201903201703218109</td>\n",
              "      <td>파이낸셜뉴스</td>\n",
              "      <td>주목할 점은 이 시설이 함반토타 항 인근에 건설된다는 점이다.</td>\n",
              "      <td>What's noteworthy is that the facility will be...</td>\n",
              "    </tr>\n",
              "    <tr>\n",
              "      <th>23344</th>\n",
              "      <td>20563743</td>\n",
              "      <td>2018-11-30 00:00:00</td>\n",
              "      <td>국제,일본</td>\n",
              "      <td>사회,사건_사고</td>\n",
              "      <td>사회,여성</td>\n",
              "      <td>http://www.hani.co.kr/arti/international/japan...</td>\n",
              "      <td>한겨레</td>\n",
              "      <td>홋카이도, 나고야, 사이타마 등 일본 각지에서 시민들이 모여들었다.</td>\n",
              "      <td>Citizens came from all over Japan including Ho...</td>\n",
              "    </tr>\n",
              "    <tr>\n",
              "      <th>141128</th>\n",
              "      <td>9031387</td>\n",
              "      <td>2018-10-25 00:00:00</td>\n",
              "      <td>지역,지역일반</td>\n",
              "      <td>NaN</td>\n",
              "      <td>NaN</td>\n",
              "      <td>NaN</td>\n",
              "      <td>노컷뉴스</td>\n",
              "      <td>김씨는 “빼어난 경치와 스릴을 느낄 수 있는 아시아 최장 금오산 짚와이어를 탄 것만...</td>\n",
              "      <td>“I felt good just riding the longest Geumosan ...</td>\n",
              "    </tr>\n",
              "    <tr>\n",
              "      <th>38327</th>\n",
              "      <td>4685665</td>\n",
              "      <td>2018-10-13 00:00:00</td>\n",
              "      <td>경제,증권_증시</td>\n",
              "      <td>경제,금융_재테크</td>\n",
              "      <td>경제,서비스_쇼핑</td>\n",
              "      <td>http://www.sedaily.com/NewsView/1S5W9ZPDEA</td>\n",
              "      <td>서울경제</td>\n",
              "      <td>코스피가 하락세에 들어갔던 지난달 27일 이후 11일까지 ‘QV S&amp;P500 VIX...</td>\n",
              "      <td>\"QV S&amp;P500 VIX S/T Futures ETN\" was up 33.42% ...</td>\n",
              "    </tr>\n",
              "    <tr>\n",
              "      <th>129246</th>\n",
              "      <td>9194380</td>\n",
              "      <td>20181126</td>\n",
              "      <td>정치,행정_자치</td>\n",
              "      <td>정치,국회_정당</td>\n",
              "      <td>NaN</td>\n",
              "      <td>NaN</td>\n",
              "      <td>노컷뉴스</td>\n",
              "      <td>국가보훈처 관계자는 “현행 상훈법에는 훈격을 조정할 수 있는 규정이 없어 설사 재평...</td>\n",
              "      <td>\"The current Awards and Decorations Act does n...</td>\n",
              "    </tr>\n",
              "    <tr>\n",
              "      <th>85753</th>\n",
              "      <td>2905071</td>\n",
              "      <td>20190329</td>\n",
              "      <td>문화,방송_연예</td>\n",
              "      <td>NaN</td>\n",
              "      <td>NaN</td>\n",
              "      <td>http://www.hani.co.kr/arti/culture/culture_gen...</td>\n",
              "      <td>한겨레</td>\n",
              "      <td>개인적으로는 90년대 전성기에 히트시킨 노래들보다 최근 몇년간 힘 빼고 내놓은 다양...</td>\n",
              "      <td>Personally, I like songs from various genres t...</td>\n",
              "    </tr>\n",
              "    <tr>\n",
              "      <th>68183</th>\n",
              "      <td>539199</td>\n",
              "      <td>20181012</td>\n",
              "      <td>정치,북한</td>\n",
              "      <td>문화,종교</td>\n",
              "      <td>정치,외교</td>\n",
              "      <td>http://news.kmib.co.kr/article/view.asp?arcid=...</td>\n",
              "      <td>국민일보</td>\n",
              "      <td>1953년 휴전 이후 65년 동안 다른 체제에서 살고 있는 남한과 북한 주민 사이엔...</td>\n",
              "      <td>There is high cultural barrier between South a...</td>\n",
              "    </tr>\n",
              "    <tr>\n",
              "      <th>193477</th>\n",
              "      <td>10220070</td>\n",
              "      <td>20180827</td>\n",
              "      <td>정치,청와대</td>\n",
              "      <td>정치,행정_자치</td>\n",
              "      <td>정치,외교</td>\n",
              "      <td>www.mediatoday.co.kr/?mod=news&amp;act=articleView...</td>\n",
              "      <td>미디어오늘</td>\n",
              "      <td>국민연금 문제가 고갈론 등 국민적 불안감으로 논란이 확산될 경우 전체 경제정책에 대...</td>\n",
              "      <td>Analysts say that if the national pension issu...</td>\n",
              "    </tr>\n",
              "    <tr>\n",
              "      <th>177836</th>\n",
              "      <td>1840222</td>\n",
              "      <td>20181228</td>\n",
              "      <td>지역,경기</td>\n",
              "      <td>지역,경남</td>\n",
              "      <td>NaN</td>\n",
              "      <td>http://www.naeil.com/news_view/?id_art=299653</td>\n",
              "      <td>내일신문</td>\n",
              "      <td>도 관계자는 “이번 일반산업단지계획 승인·고시로 광명시흥 테크노밸리 사업의 첫 보상...</td>\n",
              "      <td>A provincial government official said, \"As the...</td>\n",
              "    </tr>\n",
              "  </tbody>\n",
              "</table>\n",
              "</div>"
            ],
            "text/plain": [
              "              ID  ...                                                번역문\n",
              "140164   1558494  ...  Separately, a special plane of Air Koryo Fligh...\n",
              "26461   21654052  ...  What's noteworthy is that the facility will be...\n",
              "23344   20563743  ...  Citizens came from all over Japan including Ho...\n",
              "141128   9031387  ...  “I felt good just riding the longest Geumosan ...\n",
              "38327    4685665  ...  \"QV S&P500 VIX S/T Futures ETN\" was up 33.42% ...\n",
              "129246   9194380  ...  \"The current Awards and Decorations Act does n...\n",
              "85753    2905071  ...  Personally, I like songs from various genres t...\n",
              "68183     539199  ...  There is high cultural barrier between South a...\n",
              "193477  10220070  ...  Analysts say that if the national pension issu...\n",
              "177836   1840222  ...  A provincial government official said, \"As the...\n",
              "\n",
              "[10 rows x 9 columns]"
            ]
          },
          "metadata": {
            "tags": []
          },
          "execution_count": 17
        }
      ]
    },
    {
      "cell_type": "markdown",
      "metadata": {
        "id": "YW2aE-6pmvjJ"
      },
      "source": [
        "- 원문과 번역문만 선택하여 저장하기"
      ]
    },
    {
      "cell_type": "code",
      "metadata": {
        "id": "kOpF9E-9jA8a"
      },
      "source": [
        "df_new = df[['원문', '번역문']].rename(columns = {'원문':'kor', '번역문':'eng'}, inplace=False)\n",
        "df_new.to_csv('/content/drive/My Drive/Colab Notebooks/news800k.csv', index=False)"
      ],
      "execution_count": 20,
      "outputs": []
    },
    {
      "cell_type": "markdown",
      "metadata": {
        "id": "eiwIzZCFm2gD"
      },
      "source": [
        "- 저장된 파일 확인하기"
      ]
    },
    {
      "cell_type": "code",
      "metadata": {
        "id": "ilZ5ZVkGjA_C",
        "outputId": "78d7f207-c943-4da7-c95d-96974a93f0fd",
        "colab": {
          "base_uri": "https://localhost:8080/",
          "height": 202
        }
      },
      "source": [
        "df = pd.read_csv('/content/drive/My Drive/Colab Notebooks/news800k.csv')\n",
        "df.sample(5)"
      ],
      "execution_count": 22,
      "outputs": [
        {
          "output_type": "execute_result",
          "data": {
            "text/html": [
              "<div>\n",
              "<style scoped>\n",
              "    .dataframe tbody tr th:only-of-type {\n",
              "        vertical-align: middle;\n",
              "    }\n",
              "\n",
              "    .dataframe tbody tr th {\n",
              "        vertical-align: top;\n",
              "    }\n",
              "\n",
              "    .dataframe thead th {\n",
              "        text-align: right;\n",
              "    }\n",
              "</style>\n",
              "<table border=\"1\" class=\"dataframe\">\n",
              "  <thead>\n",
              "    <tr style=\"text-align: right;\">\n",
              "      <th></th>\n",
              "      <th>kor</th>\n",
              "      <th>eng</th>\n",
              "    </tr>\n",
              "  </thead>\n",
              "  <tbody>\n",
              "    <tr>\n",
              "      <th>133745</th>\n",
              "      <td>금융위는 시장 수요가 시급한 점을 고려해 클라우드, AI, 빅데이터 등이 활용될 수...</td>\n",
              "      <td>The Financial Services Commission plans to pre...</td>\n",
              "    </tr>\n",
              "    <tr>\n",
              "      <th>473867</th>\n",
              "      <td>조선일보는 김씨와 공지영 작가 등이 애초부터 박 변호사 선임을 염두에 뒀으나 박 변...</td>\n",
              "      <td>The Chosun Ilbo said that Kim and writer Gong ...</td>\n",
              "    </tr>\n",
              "    <tr>\n",
              "      <th>779850</th>\n",
              "      <td>이를 두고 김정훈 의원은 국감에서 “올 상반기 18개 국내은행이 예대마진으로 20조...</td>\n",
              "      <td>Representative Kim Jung-hoon criticized the ba...</td>\n",
              "    </tr>\n",
              "    <tr>\n",
              "      <th>40124</th>\n",
              "      <td>아직은 산악지형이 많고, 전력이나 도로 사정이 열악한, 게다가 물도 부족한 중국에서...</td>\n",
              "      <td>Developing shale gas is not profitable in Chin...</td>\n",
              "    </tr>\n",
              "    <tr>\n",
              "      <th>775519</th>\n",
              "      <td>“한국이 정부의 목표대로 재생에너지 비중을 획기적으로 높이려면 국민들의 삶이 변하지...</td>\n",
              "      <td>The advice from the German experts came to con...</td>\n",
              "    </tr>\n",
              "  </tbody>\n",
              "</table>\n",
              "</div>"
            ],
            "text/plain": [
              "                                                      kor                                                eng\n",
              "133745  금융위는 시장 수요가 시급한 점을 고려해 클라우드, AI, 빅데이터 등이 활용될 수...  The Financial Services Commission plans to pre...\n",
              "473867  조선일보는 김씨와 공지영 작가 등이 애초부터 박 변호사 선임을 염두에 뒀으나 박 변...  The Chosun Ilbo said that Kim and writer Gong ...\n",
              "779850  이를 두고 김정훈 의원은 국감에서 “올 상반기 18개 국내은행이 예대마진으로 20조...  Representative Kim Jung-hoon criticized the ba...\n",
              "40124   아직은 산악지형이 많고, 전력이나 도로 사정이 열악한, 게다가 물도 부족한 중국에서...  Developing shale gas is not profitable in Chin...\n",
              "775519  “한국이 정부의 목표대로 재생에너지 비중을 획기적으로 높이려면 국민들의 삶이 변하지...  The advice from the German experts came to con..."
            ]
          },
          "metadata": {
            "tags": []
          },
          "execution_count": 22
        }
      ]
    }
  ]
}