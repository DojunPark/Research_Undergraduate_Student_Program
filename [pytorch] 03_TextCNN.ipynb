{
 "cells": [
  {
   "cell_type": "markdown",
   "metadata": {},
   "source": [
    "# Import libraries"
   ]
  },
  {
   "cell_type": "code",
   "execution_count": 1,
   "metadata": {},
   "outputs": [],
   "source": [
    "import numpy as np\n",
    "import torch\n",
    "import torch.nn as nn\n",
    "import torch.optim as optim\n",
    "from torch.autograd import Variable\n",
    "import torch.nn.functional as F"
   ]
  },
  {
   "cell_type": "markdown",
   "metadata": {},
   "source": [
    "# Set the data type to 32bit float point"
   ]
  },
  {
   "cell_type": "code",
   "execution_count": 2,
   "metadata": {},
   "outputs": [],
   "source": [
    "dtype = torch.FloatTensor"
   ]
  },
  {
   "cell_type": "markdown",
   "metadata": {},
   "source": [
    "# Set the TextCNN parameters"
   ]
  },
  {
   "cell_type": "code",
   "execution_count": 4,
   "metadata": {},
   "outputs": [],
   "source": [
    "embedding_size = 2  # n-gram\n",
    "sequence_length = 3\n",
    "num_classes = 2  # positive, negative\n",
    "filter_sizes = [2, 2, 2]  # n-gram window\n",
    "num_filters = 3"
   ]
  },
  {
   "cell_type": "markdown",
   "metadata": {},
   "source": [
    "# pre-processing data"
   ]
  },
  {
   "cell_type": "code",
   "execution_count": 40,
   "metadata": {},
   "outputs": [],
   "source": [
    "sentences = ['i love you', 'he loves me', 'she likes baseball', 'i hate you', 'sorry for that', 'this is awful']\n",
    "labels = [1, 1, 1, 0, 0, 0]  # 1 for positive, 0 for negative\n",
    "\n",
    "word_list = ' '.join(sentences).split()  # all words\n",
    "word_list = list(set(word_list))         # delete redundant words\n",
    "word_dict = {w: i for i, w in enumerate(word_list)}  # make a dictionary with the words\n",
    "vocab_size = len(word_dict)              # same as len(word_list)\n",
    "\n",
    "inputs = []   # sentences as vocab number\n",
    "for sen in sentences:\n",
    "    inputs.append(np.asarray([word_dict[n] for n in sen.split()]))\n",
    "\n",
    "targets = [] \n",
    "for out in labels:\n",
    "    targets.append(out)  # for using Torch Softmax Loss function\n",
    "\n",
    "input_batch = Variable(torch.LongTensor(inputs))    # array to long tensor\n",
    "target_batch = Variable(torch.LongTensor(targets))"
   ]
  },
  {
   "cell_type": "markdown",
   "metadata": {},
   "source": [
    "# Model"
   ]
  },
  {
   "cell_type": "code",
   "execution_count": 50,
   "metadata": {},
   "outputs": [],
   "source": [
    "class TextCNN(nn.Module):\n",
    "    def __init__(self):\n",
    "        super(TextCNN, self).__init__()\n",
    "        \n",
    "        self.num_filters_total = num_filters * len(filter_sizes)\n",
    "        self.W = nn.Parameter(torch.empty(vocab_size, embedding_size).uniform_(-1, 1)).type(dtype)\n",
    "        self.Weight = nn. Parameter(torch.empty(self.num_filters_total, num_classes).uniform_(-1, 1)).type(dtype)\n",
    "        self.Bias = nn.Parameter(0.1 * torch.ones([num_classes])).type(dtype)\n",
    "        \n",
    "    def forward(self, X):\n",
    "        embedded_chars = self.W[X]\n",
    "        embedded_chars = embedded_chars.unsqueeze(1)\n",
    "        \n",
    "        pooled_outputs = []\n",
    "        for filter_size in filter_sizes:\n",
    "            conv = nn.Conv2d(1, num_filters, (filter_size, embedding_size), bias=True)(embedded_chars)\n",
    "            h = F.relu(conv)\n",
    "            mp = nn.MaxPool2d((sequence_length - filter_size + 1, 1))\n",
    "            pooled = mp(h).permute(0, 3, 2, 1)\n",
    "            pooled_outputs.append(pooled)\n",
    "            \n",
    "        h_pool = torch.cat(pooled_outputs, -1)\n",
    "        h_pool_flat = torch.reshape(h_pool, [-1, self.num_filters_total])\n",
    "        \n",
    "        model = torch.mm(h_pool_flat, self.Weight) + self.Bias\n",
    "        return model\n",
    "\n",
    "model = TextCNN()\n",
    "\n",
    "criterion = nn.CrossEntropyLoss()\n",
    "optimizer = optim.Adam(model.parameters(), lr=10e-4)"
   ]
  },
  {
   "cell_type": "markdown",
   "metadata": {},
   "source": [
    "# Training"
   ]
  },
  {
   "cell_type": "code",
   "execution_count": 51,
   "metadata": {},
   "outputs": [
    {
     "name": "stdout",
     "output_type": "stream",
     "text": [
      "Epoch: 1000 cost = 0.560748\n",
      "Epoch: 2000 cost = 0.285316\n",
      "Epoch: 3000 cost = 0.108605\n",
      "Epoch: 4000 cost = 0.064520\n",
      "Epoch: 5000 cost = 0.023785\n",
      "Epoch: 6000 cost = 0.079539\n",
      "Epoch: 7000 cost = 0.020627\n",
      "Epoch: 8000 cost = 0.019756\n",
      "Epoch: 9000 cost = 0.013035\n",
      "Epoch: 10000 cost = 0.036102\n"
     ]
    }
   ],
   "source": [
    "for epoch in range(10000):\n",
    "    optimizer.zero_grad()\n",
    "    output = model(input_batch)\n",
    "    \n",
    "    loss = criterion(output, target_batch)\n",
    "    if (epoch + 1) % 1000 == 0:\n",
    "        print('Epoch:', '%04d' % (epoch + 1), 'cost =', '{:.6f}'.format(loss))\n",
    "        \n",
    "    loss.backward()\n",
    "    optimizer.step()"
   ]
  },
  {
   "cell_type": "markdown",
   "metadata": {},
   "source": [
    "# Test"
   ]
  },
  {
   "cell_type": "code",
   "execution_count": 52,
   "metadata": {},
   "outputs": [
    {
     "name": "stdout",
     "output_type": "stream",
     "text": [
      "sorry hate you is bad meaning.\n"
     ]
    }
   ],
   "source": [
    "test_text = 'sorry hate you'\n",
    "tests = [np.asarray([word_dict[n] for n in test_text.split()])]\n",
    "test_batch = Variable(torch.LongTensor(tests))\n",
    "\n",
    "predict = model(test_batch).data.max(1, keepdim=True)[1]\n",
    "if predict[0][0] == 0:\n",
    "    print(test_text, 'is bad meaning.')\n",
    "else:\n",
    "    print(test_text, 'is good meaning.')"
   ]
  },
  {
   "cell_type": "markdown",
   "metadata": {},
   "source": [
    "# References\n",
    "- https://github.com/graykode/nlp-tutorial/tree/master/2-1.TextCNN\n",
    "- https://taewan.kim/post/cnn\n",
    "- https://nlp.konkuk.ac.kr/bbs/board.php?bo_table=lectures"
   ]
  }
 ],
 "metadata": {
  "kernelspec": {
   "display_name": "Python 3",
   "language": "python",
   "name": "python3"
  },
  "language_info": {
   "codemirror_mode": {
    "name": "ipython",
    "version": 3
   },
   "file_extension": ".py",
   "mimetype": "text/x-python",
   "name": "python",
   "nbconvert_exporter": "python",
   "pygments_lexer": "ipython3",
   "version": "3.6.9"
  }
 },
 "nbformat": 4,
 "nbformat_minor": 2
}
