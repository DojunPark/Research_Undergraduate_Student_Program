{
 "cells": [
  {
   "cell_type": "markdown",
   "metadata": {},
   "source": [
    "# 데이터셋 불러오기"
   ]
  },
  {
   "cell_type": "code",
   "execution_count": 2,
   "metadata": {},
   "outputs": [],
   "source": [
    "import pandas as pd"
   ]
  },
  {
   "cell_type": "code",
   "execution_count": 1,
   "metadata": {},
   "outputs": [
    {
     "data": {
      "text/html": [
       "<div>\n",
       "<style scoped>\n",
       "    .dataframe tbody tr th:only-of-type {\n",
       "        vertical-align: middle;\n",
       "    }\n",
       "\n",
       "    .dataframe tbody tr th {\n",
       "        vertical-align: top;\n",
       "    }\n",
       "\n",
       "    .dataframe thead th {\n",
       "        text-align: right;\n",
       "    }\n",
       "</style>\n",
       "<table border=\"1\" class=\"dataframe\">\n",
       "  <thead>\n",
       "    <tr style=\"text-align: right;\">\n",
       "      <th></th>\n",
       "      <th>ID</th>\n",
       "      <th>날짜</th>\n",
       "      <th>자동분류1</th>\n",
       "      <th>자동분류2</th>\n",
       "      <th>자동분류3</th>\n",
       "      <th>URL</th>\n",
       "      <th>언론사</th>\n",
       "      <th>원문</th>\n",
       "      <th>번역문</th>\n",
       "    </tr>\n",
       "  </thead>\n",
       "  <tbody>\n",
       "    <tr>\n",
       "      <th>0</th>\n",
       "      <td>20961563</td>\n",
       "      <td>2018-10-01 00:00:00</td>\n",
       "      <td>경제,국제경제</td>\n",
       "      <td>IT_과학,IT_과학일반</td>\n",
       "      <td>문화,문화일반</td>\n",
       "      <td>http://www.sedaily.com/NewsView/1S5QRSR5T2</td>\n",
       "      <td>서울경제</td>\n",
       "      <td>스키너가 말한 보상은 대부분 눈으로 볼 수 있는 현물이다.</td>\n",
       "      <td>Skinner's reward is mostly eye-watering.</td>\n",
       "    </tr>\n",
       "    <tr>\n",
       "      <th>1</th>\n",
       "      <td>20930897</td>\n",
       "      <td>2018-09-14 00:00:00</td>\n",
       "      <td>IT_과학,IT_과학일반</td>\n",
       "      <td>NaN</td>\n",
       "      <td>NaN</td>\n",
       "      <td>http://www.sedaily.com/NewsView/1S4MSFM0IH</td>\n",
       "      <td>서울경제</td>\n",
       "      <td>심지어 어떤 문제가 발생할 건지도 어느 정도 예측이 가능하다.</td>\n",
       "      <td>Even some problems can be predicted.</td>\n",
       "    </tr>\n",
       "    <tr>\n",
       "      <th>2</th>\n",
       "      <td>20307875</td>\n",
       "      <td>2019-04-19 00:00:00</td>\n",
       "      <td>IT_과학,과학</td>\n",
       "      <td>NaN</td>\n",
       "      <td>NaN</td>\n",
       "      <td>http://news.kmib.co.kr/article/view.asp?arcid=...</td>\n",
       "      <td>국민일보</td>\n",
       "      <td>오직 하나님만이 그 이유를 제대로 알 수 있을 겁니다.</td>\n",
       "      <td>Only God will exactly know why.</td>\n",
       "    </tr>\n",
       "    <tr>\n",
       "      <th>3</th>\n",
       "      <td>20314977</td>\n",
       "      <td>2019-04-27 00:00:00</td>\n",
       "      <td>국제,중국</td>\n",
       "      <td>경제,국제경제</td>\n",
       "      <td>NaN</td>\n",
       "      <td>http://news.kmib.co.kr/article/view.asp?arcid=...</td>\n",
       "      <td>국민일보</td>\n",
       "      <td>중국의 논쟁을 보며 간과해선 안 될 게 기업들의 고충이다.</td>\n",
       "      <td>Businesses should not overlook China's dispute.</td>\n",
       "    </tr>\n",
       "    <tr>\n",
       "      <th>4</th>\n",
       "      <td>20268904</td>\n",
       "      <td>2019-03-13 00:00:00</td>\n",
       "      <td>문화,방송_연예</td>\n",
       "      <td>사회,미디어</td>\n",
       "      <td>NaN</td>\n",
       "      <td>http://news.kmib.co.kr/article/view.asp?arcid=...</td>\n",
       "      <td>국민일보</td>\n",
       "      <td>박자가 느린 노래는 오랜 시간이 지나 뜨는 경우가 있다.</td>\n",
       "      <td>Slow-beating songs often float over time.</td>\n",
       "    </tr>\n",
       "  </tbody>\n",
       "</table>\n",
       "</div>"
      ],
      "text/plain": [
       "         ID                   날짜          자동분류1          자동분류2    자동분류3  \\\n",
       "0  20961563  2018-10-01 00:00:00        경제,국제경제  IT_과학,IT_과학일반  문화,문화일반   \n",
       "1  20930897  2018-09-14 00:00:00  IT_과학,IT_과학일반            NaN      NaN   \n",
       "2  20307875  2019-04-19 00:00:00       IT_과학,과학            NaN      NaN   \n",
       "3  20314977  2019-04-27 00:00:00          국제,중국        경제,국제경제      NaN   \n",
       "4  20268904  2019-03-13 00:00:00       문화,방송_연예         사회,미디어      NaN   \n",
       "\n",
       "                                                 URL   언론사  \\\n",
       "0         http://www.sedaily.com/NewsView/1S5QRSR5T2  서울경제   \n",
       "1         http://www.sedaily.com/NewsView/1S4MSFM0IH  서울경제   \n",
       "2  http://news.kmib.co.kr/article/view.asp?arcid=...  국민일보   \n",
       "3  http://news.kmib.co.kr/article/view.asp?arcid=...  국민일보   \n",
       "4  http://news.kmib.co.kr/article/view.asp?arcid=...  국민일보   \n",
       "\n",
       "                                   원문  \\\n",
       "0    스키너가 말한 보상은 대부분 눈으로 볼 수 있는 현물이다.   \n",
       "1  심지어 어떤 문제가 발생할 건지도 어느 정도 예측이 가능하다.   \n",
       "2      오직 하나님만이 그 이유를 제대로 알 수 있을 겁니다.   \n",
       "3    중국의 논쟁을 보며 간과해선 안 될 게 기업들의 고충이다.   \n",
       "4     박자가 느린 노래는 오랜 시간이 지나 뜨는 경우가 있다.   \n",
       "\n",
       "                                               번역문  \n",
       "0         Skinner's reward is mostly eye-watering.  \n",
       "1             Even some problems can be predicted.  \n",
       "2                  Only God will exactly know why.  \n",
       "3  Businesses should not overlook China's dispute.  \n",
       "4        Slow-beating songs often float over time.  "
      ]
     },
     "execution_count": 1,
     "metadata": {},
     "output_type": "execute_result"
    }
   ],
   "source": [
    "df = pd.read_excel('3_문어체_뉴스(1)_200226.xlsx')\n",
    "df.head()"
   ]
  },
  {
   "cell_type": "code",
   "execution_count": 6,
   "metadata": {},
   "outputs": [
    {
     "data": {
      "text/plain": [
       "0      스키너가 말한 보상은 대부분 눈으로 볼 수 있는 현물이다.\n",
       "1    심지어 어떤 문제가 발생할 건지도 어느 정도 예측이 가능하다.\n",
       "2        오직 하나님만이 그 이유를 제대로 알 수 있을 겁니다.\n",
       "3      중국의 논쟁을 보며 간과해선 안 될 게 기업들의 고충이다.\n",
       "4       박자가 느린 노래는 오랜 시간이 지나 뜨는 경우가 있다.\n",
       "Name: 원문, dtype: object"
      ]
     },
     "execution_count": 6,
     "metadata": {},
     "output_type": "execute_result"
    }
   ],
   "source": [
    "df['원문'].head()"
   ]
  },
  {
   "cell_type": "code",
   "execution_count": 7,
   "metadata": {},
   "outputs": [
    {
     "data": {
      "text/plain": [
       "0           Skinner's reward is mostly eye-watering.\n",
       "1               Even some problems can be predicted.\n",
       "2                    Only God will exactly know why.\n",
       "3    Businesses should not overlook China's dispute.\n",
       "4          Slow-beating songs often float over time.\n",
       "Name: 번역문, dtype: object"
      ]
     },
     "execution_count": 7,
     "metadata": {},
     "output_type": "execute_result"
    }
   ],
   "source": [
    "df['번역문'].head()"
   ]
  },
  {
   "cell_type": "code",
   "execution_count": 9,
   "metadata": {},
   "outputs": [
    {
     "data": {
      "text/html": [
       "<div>\n",
       "<style scoped>\n",
       "    .dataframe tbody tr th:only-of-type {\n",
       "        vertical-align: middle;\n",
       "    }\n",
       "\n",
       "    .dataframe tbody tr th {\n",
       "        vertical-align: top;\n",
       "    }\n",
       "\n",
       "    .dataframe thead th {\n",
       "        text-align: right;\n",
       "    }\n",
       "</style>\n",
       "<table border=\"1\" class=\"dataframe\">\n",
       "  <thead>\n",
       "    <tr style=\"text-align: right;\">\n",
       "      <th></th>\n",
       "      <th>원문</th>\n",
       "      <th>번역문</th>\n",
       "    </tr>\n",
       "  </thead>\n",
       "  <tbody>\n",
       "    <tr>\n",
       "      <th>0</th>\n",
       "      <td>스키너가 말한 보상은 대부분 눈으로 볼 수 있는 현물이다.</td>\n",
       "      <td>Skinner's reward is mostly eye-watering.</td>\n",
       "    </tr>\n",
       "    <tr>\n",
       "      <th>1</th>\n",
       "      <td>심지어 어떤 문제가 발생할 건지도 어느 정도 예측이 가능하다.</td>\n",
       "      <td>Even some problems can be predicted.</td>\n",
       "    </tr>\n",
       "    <tr>\n",
       "      <th>2</th>\n",
       "      <td>오직 하나님만이 그 이유를 제대로 알 수 있을 겁니다.</td>\n",
       "      <td>Only God will exactly know why.</td>\n",
       "    </tr>\n",
       "    <tr>\n",
       "      <th>3</th>\n",
       "      <td>중국의 논쟁을 보며 간과해선 안 될 게 기업들의 고충이다.</td>\n",
       "      <td>Businesses should not overlook China's dispute.</td>\n",
       "    </tr>\n",
       "    <tr>\n",
       "      <th>4</th>\n",
       "      <td>박자가 느린 노래는 오랜 시간이 지나 뜨는 경우가 있다.</td>\n",
       "      <td>Slow-beating songs often float over time.</td>\n",
       "    </tr>\n",
       "  </tbody>\n",
       "</table>\n",
       "</div>"
      ],
      "text/plain": [
       "                                   원문  \\\n",
       "0    스키너가 말한 보상은 대부분 눈으로 볼 수 있는 현물이다.   \n",
       "1  심지어 어떤 문제가 발생할 건지도 어느 정도 예측이 가능하다.   \n",
       "2      오직 하나님만이 그 이유를 제대로 알 수 있을 겁니다.   \n",
       "3    중국의 논쟁을 보며 간과해선 안 될 게 기업들의 고충이다.   \n",
       "4     박자가 느린 노래는 오랜 시간이 지나 뜨는 경우가 있다.   \n",
       "\n",
       "                                               번역문  \n",
       "0         Skinner's reward is mostly eye-watering.  \n",
       "1             Even some problems can be predicted.  \n",
       "2                  Only God will exactly know why.  \n",
       "3  Businesses should not overlook China's dispute.  \n",
       "4        Slow-beating songs often float over time.  "
      ]
     },
     "execution_count": 9,
     "metadata": {},
     "output_type": "execute_result"
    }
   ],
   "source": [
    "df[['원문', '번역문']].head()"
   ]
  },
  {
   "cell_type": "markdown",
   "metadata": {},
   "source": [
    "# 데이터셋 저장하기"
   ]
  },
  {
   "cell_type": "code",
   "execution_count": 10,
   "metadata": {},
   "outputs": [
    {
     "data": {
      "text/html": [
       "<div>\n",
       "<style scoped>\n",
       "    .dataframe tbody tr th:only-of-type {\n",
       "        vertical-align: middle;\n",
       "    }\n",
       "\n",
       "    .dataframe tbody tr th {\n",
       "        vertical-align: top;\n",
       "    }\n",
       "\n",
       "    .dataframe thead th {\n",
       "        text-align: right;\n",
       "    }\n",
       "</style>\n",
       "<table border=\"1\" class=\"dataframe\">\n",
       "  <thead>\n",
       "    <tr style=\"text-align: right;\">\n",
       "      <th></th>\n",
       "      <th>kor</th>\n",
       "      <th>eng</th>\n",
       "    </tr>\n",
       "  </thead>\n",
       "  <tbody>\n",
       "    <tr>\n",
       "      <th>0</th>\n",
       "      <td>스키너가 말한 보상은 대부분 눈으로 볼 수 있는 현물이다.</td>\n",
       "      <td>Skinner's reward is mostly eye-watering.</td>\n",
       "    </tr>\n",
       "    <tr>\n",
       "      <th>1</th>\n",
       "      <td>심지어 어떤 문제가 발생할 건지도 어느 정도 예측이 가능하다.</td>\n",
       "      <td>Even some problems can be predicted.</td>\n",
       "    </tr>\n",
       "    <tr>\n",
       "      <th>2</th>\n",
       "      <td>오직 하나님만이 그 이유를 제대로 알 수 있을 겁니다.</td>\n",
       "      <td>Only God will exactly know why.</td>\n",
       "    </tr>\n",
       "    <tr>\n",
       "      <th>3</th>\n",
       "      <td>중국의 논쟁을 보며 간과해선 안 될 게 기업들의 고충이다.</td>\n",
       "      <td>Businesses should not overlook China's dispute.</td>\n",
       "    </tr>\n",
       "    <tr>\n",
       "      <th>4</th>\n",
       "      <td>박자가 느린 노래는 오랜 시간이 지나 뜨는 경우가 있다.</td>\n",
       "      <td>Slow-beating songs often float over time.</td>\n",
       "    </tr>\n",
       "  </tbody>\n",
       "</table>\n",
       "</div>"
      ],
      "text/plain": [
       "                                  kor  \\\n",
       "0    스키너가 말한 보상은 대부분 눈으로 볼 수 있는 현물이다.   \n",
       "1  심지어 어떤 문제가 발생할 건지도 어느 정도 예측이 가능하다.   \n",
       "2      오직 하나님만이 그 이유를 제대로 알 수 있을 겁니다.   \n",
       "3    중국의 논쟁을 보며 간과해선 안 될 게 기업들의 고충이다.   \n",
       "4     박자가 느린 노래는 오랜 시간이 지나 뜨는 경우가 있다.   \n",
       "\n",
       "                                               eng  \n",
       "0         Skinner's reward is mostly eye-watering.  \n",
       "1             Even some problems can be predicted.  \n",
       "2                  Only God will exactly know why.  \n",
       "3  Businesses should not overlook China's dispute.  \n",
       "4        Slow-beating songs often float over time.  "
      ]
     },
     "execution_count": 10,
     "metadata": {},
     "output_type": "execute_result"
    }
   ],
   "source": [
    "df_sample = df[['원문', '번역문']].rename(columns = {'원문': 'kor', '번역문': 'eng'}, inplace = False)\n",
    "df_sample.head()"
   ]
  },
  {
   "cell_type": "code",
   "execution_count": 11,
   "metadata": {},
   "outputs": [
    {
     "data": {
      "text/plain": [
       "(200011, 2)"
      ]
     },
     "execution_count": 11,
     "metadata": {},
     "output_type": "execute_result"
    }
   ],
   "source": [
    "df_sample.shape"
   ]
  },
  {
   "cell_type": "code",
   "execution_count": 13,
   "metadata": {},
   "outputs": [],
   "source": [
    "df_sample.to_csv('C:\\\\RUS\\\\dataset for machine translation\\\\news_200k.csv', sep=',', na_rep='NaN')"
   ]
  },
  {
   "cell_type": "code",
   "execution_count": 3,
   "metadata": {},
   "outputs": [
    {
     "data": {
      "text/html": [
       "<div>\n",
       "<style scoped>\n",
       "    .dataframe tbody tr th:only-of-type {\n",
       "        vertical-align: middle;\n",
       "    }\n",
       "\n",
       "    .dataframe tbody tr th {\n",
       "        vertical-align: top;\n",
       "    }\n",
       "\n",
       "    .dataframe thead th {\n",
       "        text-align: right;\n",
       "    }\n",
       "</style>\n",
       "<table border=\"1\" class=\"dataframe\">\n",
       "  <thead>\n",
       "    <tr style=\"text-align: right;\">\n",
       "      <th></th>\n",
       "      <th>Unnamed: 0</th>\n",
       "      <th>kor</th>\n",
       "      <th>eng</th>\n",
       "    </tr>\n",
       "  </thead>\n",
       "  <tbody>\n",
       "    <tr>\n",
       "      <th>0</th>\n",
       "      <td>0</td>\n",
       "      <td>스키너가 말한 보상은 대부분 눈으로 볼 수 있는 현물이다.</td>\n",
       "      <td>Skinner's reward is mostly eye-watering.</td>\n",
       "    </tr>\n",
       "    <tr>\n",
       "      <th>1</th>\n",
       "      <td>1</td>\n",
       "      <td>심지어 어떤 문제가 발생할 건지도 어느 정도 예측이 가능하다.</td>\n",
       "      <td>Even some problems can be predicted.</td>\n",
       "    </tr>\n",
       "    <tr>\n",
       "      <th>2</th>\n",
       "      <td>2</td>\n",
       "      <td>오직 하나님만이 그 이유를 제대로 알 수 있을 겁니다.</td>\n",
       "      <td>Only God will exactly know why.</td>\n",
       "    </tr>\n",
       "    <tr>\n",
       "      <th>3</th>\n",
       "      <td>3</td>\n",
       "      <td>중국의 논쟁을 보며 간과해선 안 될 게 기업들의 고충이다.</td>\n",
       "      <td>Businesses should not overlook China's dispute.</td>\n",
       "    </tr>\n",
       "    <tr>\n",
       "      <th>4</th>\n",
       "      <td>4</td>\n",
       "      <td>박자가 느린 노래는 오랜 시간이 지나 뜨는 경우가 있다.</td>\n",
       "      <td>Slow-beating songs often float over time.</td>\n",
       "    </tr>\n",
       "  </tbody>\n",
       "</table>\n",
       "</div>"
      ],
      "text/plain": [
       "   Unnamed: 0                                 kor  \\\n",
       "0           0    스키너가 말한 보상은 대부분 눈으로 볼 수 있는 현물이다.   \n",
       "1           1  심지어 어떤 문제가 발생할 건지도 어느 정도 예측이 가능하다.   \n",
       "2           2      오직 하나님만이 그 이유를 제대로 알 수 있을 겁니다.   \n",
       "3           3    중국의 논쟁을 보며 간과해선 안 될 게 기업들의 고충이다.   \n",
       "4           4     박자가 느린 노래는 오랜 시간이 지나 뜨는 경우가 있다.   \n",
       "\n",
       "                                               eng  \n",
       "0         Skinner's reward is mostly eye-watering.  \n",
       "1             Even some problems can be predicted.  \n",
       "2                  Only God will exactly know why.  \n",
       "3  Businesses should not overlook China's dispute.  \n",
       "4        Slow-beating songs often float over time.  "
      ]
     },
     "execution_count": 3,
     "metadata": {},
     "output_type": "execute_result"
    }
   ],
   "source": [
    "df_reload = pd.read_csv('C:\\\\Users\\\\Dojun Park\\\\Documents\\\\dataset\\\\news_200k.csv')\n",
    "df_reload.head()"
   ]
  },
  {
   "cell_type": "code",
   "execution_count": 4,
   "metadata": {},
   "outputs": [
    {
     "data": {
      "text/plain": [
       "(200011, 3)"
      ]
     },
     "execution_count": 4,
     "metadata": {},
     "output_type": "execute_result"
    }
   ],
   "source": [
    "df_reload.shape"
   ]
  },
  {
   "cell_type": "code",
   "execution_count": 9,
   "metadata": {},
   "outputs": [
    {
     "data": {
      "text/html": [
       "<div>\n",
       "<style scoped>\n",
       "    .dataframe tbody tr th:only-of-type {\n",
       "        vertical-align: middle;\n",
       "    }\n",
       "\n",
       "    .dataframe tbody tr th {\n",
       "        vertical-align: top;\n",
       "    }\n",
       "\n",
       "    .dataframe thead th {\n",
       "        text-align: right;\n",
       "    }\n",
       "</style>\n",
       "<table border=\"1\" class=\"dataframe\">\n",
       "  <thead>\n",
       "    <tr style=\"text-align: right;\">\n",
       "      <th></th>\n",
       "      <th>Unnamed: 0</th>\n",
       "      <th>kor</th>\n",
       "      <th>eng</th>\n",
       "    </tr>\n",
       "  </thead>\n",
       "  <tbody>\n",
       "    <tr>\n",
       "      <th>100842</th>\n",
       "      <td>100842</td>\n",
       "      <td>교단 교파가 다른 교회들이 오륜교회의 기도회를 자기네 교회에서 영상으로 보면서 참여...</td>\n",
       "      <td>Many people thought strange about the format i...</td>\n",
       "    </tr>\n",
       "    <tr>\n",
       "      <th>81019</th>\n",
       "      <td>81019</td>\n",
       "      <td>정규직 노조는 지난 6월 동일한 입사 과정을 거치지 않고 정규직으로 전환되는 게 옳...</td>\n",
       "      <td>The Full-time Worker's Labor Union complained ...</td>\n",
       "    </tr>\n",
       "    <tr>\n",
       "      <th>9286</th>\n",
       "      <td>9286</td>\n",
       "      <td>차량 배터리 보호를 위해 저전압 시 자동으로 전원이 차단된다.</td>\n",
       "      <td>To protect the vehicle battery, the power is a...</td>\n",
       "    </tr>\n",
       "    <tr>\n",
       "      <th>40605</th>\n",
       "      <td>40605</td>\n",
       "      <td>올해 이명우의 활약을 보면 충분히 내년 시즌에도 쓰임새가 있을 것으로 예상됨에도 롯...</td>\n",
       "      <td>Lee Myung-woo's performance this year is expec...</td>\n",
       "    </tr>\n",
       "    <tr>\n",
       "      <th>5522</th>\n",
       "      <td>5522</td>\n",
       "      <td>영공 침범을 방지하기 위해 각 국가가 임의적으로 설정한 구역이다.</td>\n",
       "      <td>It is an area arbitrarily established by each ...</td>\n",
       "    </tr>\n",
       "    <tr>\n",
       "      <th>67380</th>\n",
       "      <td>67380</td>\n",
       "      <td>극 중 어리지만 정의감만큼은 누구보다 투철한 인물 임바른을 완벽히 소화한 고아라 뒤...</td>\n",
       "      <td>Behind Go A-ra, who played Lim Ba-reum a chara...</td>\n",
       "    </tr>\n",
       "    <tr>\n",
       "      <th>12398</th>\n",
       "      <td>12398</td>\n",
       "      <td>아침부터 고된 일이지만 즐겁게 일 해주는 직원들이 있어 든든하다.</td>\n",
       "      <td>It's hard work from morning, but good thing th...</td>\n",
       "    </tr>\n",
       "    <tr>\n",
       "      <th>13566</th>\n",
       "      <td>13566</td>\n",
       "      <td>이디야커피가 배달 서비스에 나서는 이유는 가맹점 매출을 극대화하기 위해서다.</td>\n",
       "      <td>The reason why Ediya Coffee stepping in delive...</td>\n",
       "    </tr>\n",
       "    <tr>\n",
       "      <th>197040</th>\n",
       "      <td>197040</td>\n",
       "      <td>김덕룡 민주평화통일자문회의 수석부의장은 22일 “남북 정상이 4·27 판문점선언에서...</td>\n",
       "      <td>Kim Deog-ryong, senior vice president of the A...</td>\n",
       "    </tr>\n",
       "    <tr>\n",
       "      <th>169972</th>\n",
       "      <td>169972</td>\n",
       "      <td>최은옥 교육부 고등교육정책관은 “대학의 교육 여건, 약대 발전계획 등을 종합적으로 ...</td>\n",
       "      <td>\"By taking into consideration the educational ...</td>\n",
       "    </tr>\n",
       "  </tbody>\n",
       "</table>\n",
       "</div>"
      ],
      "text/plain": [
       "        Unnamed: 0                                                kor  \\\n",
       "100842      100842  교단 교파가 다른 교회들이 오륜교회의 기도회를 자기네 교회에서 영상으로 보면서 참여...   \n",
       "81019        81019  정규직 노조는 지난 6월 동일한 입사 과정을 거치지 않고 정규직으로 전환되는 게 옳...   \n",
       "9286          9286                 차량 배터리 보호를 위해 저전압 시 자동으로 전원이 차단된다.   \n",
       "40605        40605  올해 이명우의 활약을 보면 충분히 내년 시즌에도 쓰임새가 있을 것으로 예상됨에도 롯...   \n",
       "5522          5522               영공 침범을 방지하기 위해 각 국가가 임의적으로 설정한 구역이다.   \n",
       "67380        67380  극 중 어리지만 정의감만큼은 누구보다 투철한 인물 임바른을 완벽히 소화한 고아라 뒤...   \n",
       "12398        12398               아침부터 고된 일이지만 즐겁게 일 해주는 직원들이 있어 든든하다.   \n",
       "13566        13566         이디야커피가 배달 서비스에 나서는 이유는 가맹점 매출을 극대화하기 위해서다.   \n",
       "197040      197040  김덕룡 민주평화통일자문회의 수석부의장은 22일 “남북 정상이 4·27 판문점선언에서...   \n",
       "169972      169972  최은옥 교육부 고등교육정책관은 “대학의 교육 여건, 약대 발전계획 등을 종합적으로 ...   \n",
       "\n",
       "                                                      eng  \n",
       "100842  Many people thought strange about the format i...  \n",
       "81019   The Full-time Worker's Labor Union complained ...  \n",
       "9286    To protect the vehicle battery, the power is a...  \n",
       "40605   Lee Myung-woo's performance this year is expec...  \n",
       "5522    It is an area arbitrarily established by each ...  \n",
       "67380   Behind Go A-ra, who played Lim Ba-reum a chara...  \n",
       "12398   It's hard work from morning, but good thing th...  \n",
       "13566   The reason why Ediya Coffee stepping in delive...  \n",
       "197040  Kim Deog-ryong, senior vice president of the A...  \n",
       "169972  \"By taking into consideration the educational ...  "
      ]
     },
     "execution_count": 9,
     "metadata": {},
     "output_type": "execute_result"
    }
   ],
   "source": [
    "df_reload.sample(10)"
   ]
  }
 ],
 "metadata": {
  "kernelspec": {
   "display_name": "Python 3",
   "language": "python",
   "name": "python3"
  },
  "language_info": {
   "codemirror_mode": {
    "name": "ipython",
    "version": 3
   },
   "file_extension": ".py",
   "mimetype": "text/x-python",
   "name": "python",
   "nbconvert_exporter": "python",
   "pygments_lexer": "ipython3",
   "version": "3.6.9"
  }
 },
 "nbformat": 4,
 "nbformat_minor": 2
}
