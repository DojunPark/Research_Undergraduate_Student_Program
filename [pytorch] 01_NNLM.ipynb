{
 "cells": [
  {
   "cell_type": "markdown",
   "metadata": {},
   "source": [
    "# nn.Embedding"
   ]
  },
  {
   "cell_type": "code",
   "execution_count": 14,
   "metadata": {},
   "outputs": [
    {
     "data": {
      "text/plain": [
       "{'code', 'how', 'know', 'need', 'to', 'you'}"
      ]
     },
     "execution_count": 14,
     "metadata": {},
     "output_type": "execute_result"
    }
   ],
   "source": [
    "train_data = 'you need to know how to code'\n",
    "word_set = set(train_data.split())\n",
    "\n",
    "word_set"
   ]
  },
  {
   "cell_type": "code",
   "execution_count": 15,
   "metadata": {},
   "outputs": [
    {
     "data": {
      "text/plain": [
       "{'to': 2, 'code': 3, 'how': 4, 'you': 5, 'need': 6, 'know': 7}"
      ]
     },
     "execution_count": 15,
     "metadata": {},
     "output_type": "execute_result"
    }
   ],
   "source": [
    "vocab = {tkn: i+2 for i, tkn in enumerate(word_set)}\n",
    "vocab"
   ]
  },
  {
   "cell_type": "code",
   "execution_count": 11,
   "metadata": {},
   "outputs": [
    {
     "name": "stdout",
     "output_type": "stream",
     "text": [
      "(0, 'to')\n",
      "(1, 'code')\n",
      "(2, 'how')\n",
      "(3, 'you')\n",
      "(4, 'need')\n",
      "(5, 'know')\n"
     ]
    }
   ],
   "source": [
    "for i in enumerate(word_set):\n",
    "    vocab"
   ]
  },
  {
   "cell_type": "code",
   "execution_count": 16,
   "metadata": {},
   "outputs": [
    {
     "data": {
      "text/plain": [
       "{'to': 2,\n",
       " 'code': 3,\n",
       " 'how': 4,\n",
       " 'you': 5,\n",
       " 'need': 6,\n",
       " 'know': 7,\n",
       " '<unk>': 0,\n",
       " '<pad>': 1}"
      ]
     },
     "execution_count": 16,
     "metadata": {},
     "output_type": "execute_result"
    }
   ],
   "source": [
    "vocab['<unk>'] = 0\n",
    "vocab['<pad>'] = 1\n",
    "vocab"
   ]
  },
  {
   "cell_type": "code",
   "execution_count": 18,
   "metadata": {},
   "outputs": [],
   "source": [
    "import torch.nn as nn\n",
    "\n",
    "embedding_layer = nn.Embedding(num_embeddings=len(vocab),\n",
    "                              embedding_dim=3,\n",
    "                              padding_idx=1)"
   ]
  },
  {
   "cell_type": "code",
   "execution_count": 19,
   "metadata": {},
   "outputs": [
    {
     "data": {
      "text/plain": [
       "Parameter containing:\n",
       "tensor([[-0.5645,  0.5217, -0.1553],\n",
       "        [ 0.0000,  0.0000,  0.0000],\n",
       "        [ 0.6815,  0.4034, -0.1700],\n",
       "        [-1.0121, -0.8834,  1.1933],\n",
       "        [ 1.5311, -0.0287, -0.3459],\n",
       "        [-1.7482, -1.2874, -1.0154],\n",
       "        [ 0.7291,  0.2138, -1.4682],\n",
       "        [ 0.7311, -0.4938, -1.4890]], requires_grad=True)"
      ]
     },
     "execution_count": 19,
     "metadata": {},
     "output_type": "execute_result"
    }
   ],
   "source": [
    "embedding_layer.weight"
   ]
  },
  {
   "cell_type": "markdown",
   "metadata": {},
   "source": [
    "# torch.randn"
   ]
  },
  {
   "cell_type": "code",
   "execution_count": 21,
   "metadata": {},
   "outputs": [
    {
     "data": {
      "text/plain": [
       "tensor([[ 0.3718,  0.8342, -0.2015,  0.0352],\n",
       "        [-1.3404, -2.1532,  0.3185, -1.2879],\n",
       "        [ 0.0777,  0.2026,  0.7936, -0.5208]])"
      ]
     },
     "execution_count": 21,
     "metadata": {},
     "output_type": "execute_result"
    }
   ],
   "source": [
    "import torch\n",
    "\n",
    "x = torch.randn(3, 4)\n",
    "x"
   ]
  },
  {
   "cell_type": "markdown",
   "metadata": {},
   "source": [
    "# Activation function"
   ]
  },
  {
   "cell_type": "code",
   "execution_count": 22,
   "metadata": {},
   "outputs": [
    {
     "name": "stdout",
     "output_type": "stream",
     "text": [
      "tensor([ 1.0000, -0.5000,  3.4000, -2.1000,  0.0000, -6.5000])\n"
     ]
    }
   ],
   "source": [
    "# importing the PyTorch library\n",
    "import torch\n",
    "\n",
    "# A constant tensor of size 6\n",
    "a = torch.FloatTensor([1.0, -0.5, 3.4, -2.1, 0.0, -6.5])\n",
    "print(a)"
   ]
  },
  {
   "cell_type": "code",
   "execution_count": 23,
   "metadata": {},
   "outputs": [
    {
     "data": {
      "text/plain": [
       "tensor([ 0.7616, -0.4621,  0.9978, -0.9705,  0.0000, -1.0000])"
      ]
     },
     "execution_count": 23,
     "metadata": {},
     "output_type": "execute_result"
    }
   ],
   "source": [
    "# Applying the tanh function and storing the result in 'b'\n",
    "b = torch.tanh(a)\n",
    "b"
   ]
  },
  {
   "cell_type": "markdown",
   "metadata": {},
   "source": [
    "# torch.mm"
   ]
  },
  {
   "cell_type": "code",
   "execution_count": 24,
   "metadata": {},
   "outputs": [
    {
     "data": {
      "text/plain": [
       "tensor([[-6.8195e-01,  3.3264e-01,  1.0224e+00],\n",
       "        [ 1.4460e-01,  6.1992e-01,  3.2753e-04]])"
      ]
     },
     "execution_count": 24,
     "metadata": {},
     "output_type": "execute_result"
    }
   ],
   "source": [
    "mat1 = torch.randn(2, 3)\n",
    "mat2 = torch.randn(3, 3)\n",
    "\n",
    "torch.mm(mat1, mat2)"
   ]
  },
  {
   "cell_type": "markdown",
   "metadata": {},
   "source": [
    "# X.view"
   ]
  },
  {
   "cell_type": "code",
   "execution_count": 25,
   "metadata": {},
   "outputs": [
    {
     "name": "stdout",
     "output_type": "stream",
     "text": [
      "tensor([[1., 1., 1.],\n",
      "        [1., 1., 1.],\n",
      "        [1., 1., 1.],\n",
      "        [1., 1., 1.]])\n",
      "tensor([[1., 1., 1., 1.],\n",
      "        [1., 1., 1., 1.],\n",
      "        [1., 1., 1., 1.]])\n",
      "tensor([1., 1., 1., 1., 1., 1., 1., 1., 1., 1., 1., 1.])\n"
     ]
    }
   ],
   "source": [
    "t1 = torch.ones(4, 3)\n",
    "t2 = t1.view(3, 4)\n",
    "t3 = t1.view(12)\n",
    "\n",
    "print(t1)\n",
    "print(t2)\n",
    "print(t3)"
   ]
  },
  {
   "cell_type": "markdown",
   "metadata": {},
   "source": [
    "# optimizer.zero_grad"
   ]
  },
  {
   "cell_type": "markdown",
   "metadata": {},
   "source": [
    "# loss.backward()"
   ]
  },
  {
   "cell_type": "markdown",
   "metadata": {},
   "source": [
    "# optimizer.step()"
   ]
  },
  {
   "cell_type": "markdown",
   "metadata": {},
   "source": [
    "# X.squeeze(), X.unsqueeze()"
   ]
  },
  {
   "cell_type": "code",
   "execution_count": 42,
   "metadata": {},
   "outputs": [
    {
     "data": {
      "text/plain": [
       "torch.Size([1, 3, 3])"
      ]
     },
     "execution_count": 42,
     "metadata": {},
     "output_type": "execute_result"
    }
   ],
   "source": [
    "t4 = torch.rand(1, 3, 3)\n",
    "t4.shape"
   ]
  },
  {
   "cell_type": "code",
   "execution_count": 43,
   "metadata": {},
   "outputs": [
    {
     "data": {
      "text/plain": [
       "tensor([[[0.4336, 0.3943, 0.0119],\n",
       "         [0.4431, 0.5395, 0.6198],\n",
       "         [0.3020, 0.6146, 0.2127]]])"
      ]
     },
     "execution_count": 43,
     "metadata": {},
     "output_type": "execute_result"
    }
   ],
   "source": [
    "t4"
   ]
  },
  {
   "cell_type": "code",
   "execution_count": 44,
   "metadata": {},
   "outputs": [
    {
     "data": {
      "text/plain": [
       "tensor([[0.4336, 0.3943, 0.0119],\n",
       "        [0.4431, 0.5395, 0.6198],\n",
       "        [0.3020, 0.6146, 0.2127]])"
      ]
     },
     "execution_count": 44,
     "metadata": {},
     "output_type": "execute_result"
    }
   ],
   "source": [
    "t4.squeeze()"
   ]
  },
  {
   "cell_type": "code",
   "execution_count": 45,
   "metadata": {},
   "outputs": [
    {
     "data": {
      "text/plain": [
       "torch.Size([3, 3])"
      ]
     },
     "execution_count": 45,
     "metadata": {},
     "output_type": "execute_result"
    }
   ],
   "source": [
    "t5 = torch.rand(3, 3)\n",
    "t5.shape"
   ]
  },
  {
   "cell_type": "code",
   "execution_count": 46,
   "metadata": {},
   "outputs": [
    {
     "data": {
      "text/plain": [
       "torch.Size([1, 3, 3])"
      ]
     },
     "execution_count": 46,
     "metadata": {},
     "output_type": "execute_result"
    }
   ],
   "source": [
    "t5.unsqueeze(0).shape"
   ]
  },
  {
   "cell_type": "code",
   "execution_count": 48,
   "metadata": {},
   "outputs": [
    {
     "data": {
      "text/plain": [
       "tensor([[[0.2334, 0.7143, 0.9270],\n",
       "         [0.9682, 0.4538, 0.5793],\n",
       "         [0.6121, 0.1259, 0.6368]]])"
      ]
     },
     "execution_count": 48,
     "metadata": {},
     "output_type": "execute_result"
    }
   ],
   "source": [
    "t5.unsqueeze(0)"
   ]
  },
  {
   "cell_type": "code",
   "execution_count": 49,
   "metadata": {},
   "outputs": [
    {
     "data": {
      "text/plain": [
       "torch.Size([3, 1, 3])"
      ]
     },
     "execution_count": 49,
     "metadata": {},
     "output_type": "execute_result"
    }
   ],
   "source": [
    "t5.unsqueeze(1).shape"
   ]
  },
  {
   "cell_type": "code",
   "execution_count": 50,
   "metadata": {},
   "outputs": [
    {
     "data": {
      "text/plain": [
       "tensor([[[0.2334, 0.7143, 0.9270]],\n",
       "\n",
       "        [[0.9682, 0.4538, 0.5793]],\n",
       "\n",
       "        [[0.6121, 0.1259, 0.6368]]])"
      ]
     },
     "execution_count": 50,
     "metadata": {},
     "output_type": "execute_result"
    }
   ],
   "source": [
    "t5.unsqueeze(1)"
   ]
  },
  {
   "cell_type": "markdown",
   "metadata": {},
   "source": [
    "# NNLM 코드"
   ]
  },
  {
   "cell_type": "code",
   "execution_count": 52,
   "metadata": {},
   "outputs": [
    {
     "data": {
      "text/plain": [
       "['coffee', 'love', 'milk', 'i', 'dog', 'hate', 'like']"
      ]
     },
     "execution_count": 52,
     "metadata": {},
     "output_type": "execute_result"
    }
   ],
   "source": [
    "import numpy as np\n",
    "import torch\n",
    "import torch.nn as nn\n",
    "import torch.optim as optim\n",
    "from torch.autograd import Variable\n",
    "\n",
    "dtype = torch.FloatTensor\n",
    "\n",
    "sentences = ['i like dog ', 'i love coffee ', 'i hate milk ']\n",
    "word_list = \"\".join(sentences).split()\n",
    "word_list = list(set(word_list))\n",
    "word_list"
   ]
  },
  {
   "cell_type": "code",
   "execution_count": 53,
   "metadata": {},
   "outputs": [
    {
     "data": {
      "text/plain": [
       "{'coffee': 0, 'love': 1, 'milk': 2, 'i': 3, 'dog': 4, 'hate': 5, 'like': 6}"
      ]
     },
     "execution_count": 53,
     "metadata": {},
     "output_type": "execute_result"
    }
   ],
   "source": [
    "word_dict = {w:i for i, w in enumerate(word_list)}\n",
    "word_dict"
   ]
  },
  {
   "cell_type": "code",
   "execution_count": 54,
   "metadata": {},
   "outputs": [
    {
     "data": {
      "text/plain": [
       "{0: 'coffee', 1: 'love', 2: 'milk', 3: 'i', 4: 'dog', 5: 'hate', 6: 'like'}"
      ]
     },
     "execution_count": 54,
     "metadata": {},
     "output_type": "execute_result"
    }
   ],
   "source": [
    "number_dict = {i:w for i, w in enumerate(word_list)}\n",
    "number_dict"
   ]
  },
  {
   "cell_type": "code",
   "execution_count": 55,
   "metadata": {},
   "outputs": [
    {
     "data": {
      "text/plain": [
       "7"
      ]
     },
     "execution_count": 55,
     "metadata": {},
     "output_type": "execute_result"
    }
   ],
   "source": [
    "n_class = len(word_dict)\n",
    "n_class"
   ]
  },
  {
   "cell_type": "code",
   "execution_count": 56,
   "metadata": {},
   "outputs": [],
   "source": [
    "#NNLM parameters\n",
    "n_step = 2    # n-1 in paper\n",
    "n_hidden = 2  # h in paper\n",
    "m = 2         # m in paper"
   ]
  },
  {
   "cell_type": "code",
   "execution_count": 57,
   "metadata": {},
   "outputs": [],
   "source": [
    "def make_batch(sentences):\n",
    "    \n",
    "    input_batch = []\n",
    "    target_batch = []\n",
    "    \n",
    "    for sen in sentences:\n",
    "        word = sen.split()\n",
    "        input = [word_dict[n] for n in word[:-1]]\n",
    "        target = word_dict[word[-1]]\n",
    "        \n",
    "        input_batch.append(input)\n",
    "        target_batch.append(target)\n",
    "    \n",
    "    return input_batch, target_batch"
   ]
  },
  {
   "cell_type": "code",
   "execution_count": 58,
   "metadata": {},
   "outputs": [],
   "source": [
    "# Model\n",
    "\n",
    "class NNLM(nn.Module):\n",
    "    \n",
    "    def __init__(self):\n",
    "        super(NNLM, self).__init__()\n",
    "        self.C = nn.Embedding(n_class, m)\n",
    "        self.H = nn.Parameter(torch.randn(n_step*m, n_hidden).type(dtype))\n",
    "        self.W = nn.Parameter(torch.randn(n_step*m, n_class).type(dtype))\n",
    "        self.d = nn.Parameter(torch.randn(n_hidden).type(dtype))\n",
    "        self.U = nn.Parameter(torch.randn(n_hidden, n_class).type(dtype))\n",
    "        self.b = nn.Parameter(torch.randn(n_class).type(dtype))\n",
    "        \n",
    "    def forward(self, X):\n",
    "        X = self.C(X)\n",
    "        X = X.view(-1, n_step*m)  #[batch_size, n_step*n_class]\n",
    "        tanh = torch.tanh(self.d + torch.mm(X, self.H))  #[batch_size, n_hidden]\n",
    "        output = self.b + torch.mm(X, self.W) + torch.mm(tanh, self.U)  #[batch_size, n_class]\n",
    "        return output"
   ]
  },
  {
   "cell_type": "code",
   "execution_count": 59,
   "metadata": {},
   "outputs": [],
   "source": [
    "model = NNLM()\n",
    "criterion = nn.CrossEntropyLoss()\n",
    "optimizer = optim.Adam(model.parameters(), lr=0.001)\n",
    "input_batch, target_batch = make_batch(sentences)\n",
    "input_batch = Variable(torch.LongTensor(input_batch))\n",
    "target_batch = Variable(torch.LongTensor(target_batch))"
   ]
  },
  {
   "cell_type": "code",
   "execution_count": 61,
   "metadata": {},
   "outputs": [
    {
     "name": "stdout",
     "output_type": "stream",
     "text": [
      "Epoch: 1000 cost= 0.001469\n",
      "Epoch: 2000 cost= 0.000788\n",
      "Epoch: 3000 cost= 0.000426\n",
      "Epoch: 4000 cost= 0.000230\n",
      "Epoch: 5000 cost= 0.000124\n"
     ]
    }
   ],
   "source": [
    "# Training\n",
    "\n",
    "for epoch in range(5000):\n",
    "    optimizer.zero_grad()\n",
    "    output = model(input_batch)\n",
    "    \n",
    "    loss = criterion(output, target_batch)\n",
    "    if(epoch + 1)%1000 == 0:\n",
    "        print('Epoch:', '%04d'%(epoch+1), 'cost=','{:.6f}'.format(loss))\n",
    "    \n",
    "    loss.backward()\n",
    "    optimizer.step()"
   ]
  },
  {
   "cell_type": "code",
   "execution_count": 64,
   "metadata": {},
   "outputs": [
    {
     "name": "stdout",
     "output_type": "stream",
     "text": [
      "tensor([[3, 6],\n",
      "        [3, 1],\n",
      "        [3, 5]])\n",
      "tensor([[4],\n",
      "        [0],\n",
      "        [2]])\n"
     ]
    }
   ],
   "source": [
    "# predict\n",
    "predict = model(input_batch).data.max(1, keepdim=True)[1]\n",
    "\n",
    "print(input_batch)\n",
    "print(predict)"
   ]
  },
  {
   "cell_type": "code",
   "execution_count": 65,
   "metadata": {},
   "outputs": [
    {
     "name": "stdout",
     "output_type": "stream",
     "text": [
      "[['i', 'like'], ['i', 'love'], ['i', 'hate']] -> ['dog', 'coffee', 'milk']\n"
     ]
    }
   ],
   "source": [
    "# test\n",
    "print([sen.split()[:2] for sen in sentences], '->', [number_dict[n.item()] for n in predict.squeeze()])"
   ]
  }
 ],
 "metadata": {
  "kernelspec": {
   "display_name": "Python 3",
   "language": "python",
   "name": "python3"
  },
  "language_info": {
   "codemirror_mode": {
    "name": "ipython",
    "version": 3
   },
   "file_extension": ".py",
   "mimetype": "text/x-python",
   "name": "python",
   "nbconvert_exporter": "python",
   "pygments_lexer": "ipython3",
   "version": "3.6.9"
  }
 },
 "nbformat": 4,
 "nbformat_minor": 2
}
