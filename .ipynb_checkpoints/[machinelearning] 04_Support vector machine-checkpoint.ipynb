{
 "cells": [
  {
   "cell_type": "markdown",
   "metadata": {
    "colab_type": "text",
    "id": "qbltlYE_x4ZX"
   },
   "source": [
    "<h2>개인 구글 드라이브와 colab 연동</h2>"
   ]
  },
  {
   "cell_type": "code",
   "execution_count": 1,
   "metadata": {
    "colab": {
     "base_uri": "https://localhost:8080/",
     "height": 128
    },
    "colab_type": "code",
    "executionInfo": {
     "elapsed": 18345,
     "status": "ok",
     "timestamp": 1599136329265,
     "user": {
      "displayName": "장영진",
      "photoUrl": "",
      "userId": "16685945690070219700"
     },
     "user_tz": -540
    },
    "id": "j6q5Z9pNGA0M",
    "outputId": "ea3da213-4240-4319-d46f-99472e50b6c3"
   },
   "outputs": [
    {
     "name": "stdout",
     "output_type": "stream",
     "text": [
      "Go to this URL in a browser: https://accounts.google.com/o/oauth2/auth?client_id=947318989803-6bn6qk8qdgf4n4g3pfee6491hc0brc4i.apps.googleusercontent.com&redirect_uri=urn%3aietf%3awg%3aoauth%3a2.0%3aoob&scope=email%20https%3a%2f%2fwww.googleapis.com%2fauth%2fdocs.test%20https%3a%2f%2fwww.googleapis.com%2fauth%2fdrive%20https%3a%2f%2fwww.googleapis.com%2fauth%2fdrive.photos.readonly%20https%3a%2f%2fwww.googleapis.com%2fauth%2fpeopleapi.readonly&response_type=code\n",
      "\n",
      "Enter your authorization code:\n",
      "··········\n",
      "Mounted at /gdrive\n"
     ]
    }
   ],
   "source": [
    "from google.colab import drive\n",
    "drive.mount(\"/gdrive\", force_remount=True)"
   ]
  },
  {
   "cell_type": "markdown",
   "metadata": {
    "colab_type": "text",
    "id": "PlXCd1UpzDLL"
   },
   "source": [
    "<h2>\"SMSSpamCollection\" 데이터를 읽고 문장과 정답을 분리하여 각 리스트에 저장</h2>\n",
    "\n",
    "<pre>\n",
    "<b>1. 데이터의 형태(SMSSpamCollection)</b>\n",
    "  라벨(스팸 또는 햄) \\t(tab) 문장 \n",
    "  \n",
    "  위와 같은 형태로 저장되어 있음\n",
    "  \n",
    "  예시)\n",
    "    ham\\tGo until jurong point, crazy.. Available only in bugis n great world la e buffet... Cine there got amore wat...\n",
    "    spam\\tCustomer service annoncement. You have a New Years delivery waiting for you. Please call 07046744435 now to arrange delivery\n",
    "    ...\n",
    "  \n",
    "  따라서 입력 데이터를 읽고 \\t을 기준으로 입력 문장을 분리한 후에 문장과 라벨을 각각 x_data, y_data 리스트에 저장\n",
    "\n",
    "<b>2. x_data, y_data 형태</b>\n",
    "  x_data = [ 문장1, 문장2, 문장3, ... ]\n",
    "  y_data = [ 문장1의 라벨, 문장2의 라벨, 문장3의 라벨, ... ]\n",
    "</pre>"
   ]
  },
  {
   "cell_type": "code",
   "execution_count": 2,
   "metadata": {
    "colab": {
     "base_uri": "https://localhost:8080/",
     "height": 54
    },
    "colab_type": "code",
    "executionInfo": {
     "elapsed": 868,
     "status": "ok",
     "timestamp": 1599136353841,
     "user": {
      "displayName": "장영진",
      "photoUrl": "",
      "userId": "16685945690070219700"
     },
     "user_tz": -540
    },
    "id": "gUuFzwfHGFrq",
    "outputId": "a5811389-e821-48e6-d57e-f6f1f9c6a66d"
   },
   "outputs": [
    {
     "name": "stdout",
     "output_type": "stream",
     "text": [
      "x_data의 개수 : 1500\n",
      "y_data의 개수 : 1500\n"
     ]
    }
   ],
   "source": [
    "file_path = \"/gdrive/My Drive/인공지능 실습/week5/SMSSpamCollection\"\n",
    "\n",
    "# 파일 읽기\n",
    "with open(file_path,'r',encoding='utf8') as inFile:\n",
    "  lines = inFile.readlines()\n",
    "\n",
    "x_data, y_data = [], []\n",
    "for line in lines:\n",
    "  pieces = line.strip().split('\\t')\n",
    "  label, sentence = pieces[0], pieces[1]\n",
    "  \n",
    "  x_data.append(sentence)\n",
    "  y_data.append(label)\n",
    "  \n",
    "print(\"x_data의 개수 : \" + str(len(x_data)))\n",
    "print(\"y_data의 개수 : \" + str(len(y_data)))"
   ]
  },
  {
   "cell_type": "markdown",
   "metadata": {
    "colab_type": "text",
    "id": "3R9OE2Cp1jRX"
   },
   "source": [
    "<h2>Tokenizer 라이브러리를 사용하여 입력 문장을 index로 치환</h2>\n",
    "\n",
    "<pre>\n",
    "<b>1. tokenizer.fit_on_texts(data) 함수를 이용하여 각 단어를 index로 치환하기 위한 딕셔너리 생성</b>\n",
    "   생성된 딕셔너리는 tokenizer 객체 안에 저장됨\n",
    "  \n",
    "  tokenizer.fit_on_texts(data)\n",
    "  args\n",
    "    data : 문자열 element를 가지고 있는 리스트\n",
    "  return\n",
    "    X\n",
    "    \n",
    "  딕셔너리 예시)\n",
    "    {'to': 1, 'i': 2, 'you': 3, 'a': 4, 'the': 5, 'and': 6, 'for': 7 ... }\n",
    "    \n",
    "<b>2. tokenizer.texts_to_matrix(data) 함수를 이용하여 각 단어를 one-hot 벡터로 표현하며 문장은 각 단어의 one-hot 벡터의 합으로 표현</b>\n",
    "\n",
    "  tokenizer.texts_to_sequences(data)\n",
    "  args\n",
    "    data : 문자열 element를 가지고 있는 리스트\n",
    "  return : \n",
    "    indexing 된 리스트\n",
    "\n",
    "  예시)\n",
    "    전체 단어 사전 : {'i': 1, 'am': 2, 'happy': 3, 'sad': 4}\n",
    "    i     : [1, 0, 0, 0]\n",
    "    am    : [0, 1, 0, 0]\n",
    "    happy : [0, 0, 1, 0]\n",
    "    sad   : [0, 0, 0, 1]\n",
    "    \n",
    "    문장 1 : i am happy   -> [1, 1, 1, 0]\n",
    "    문장 2 : i am sad     -> [1, 1, 0, 1]\n",
    "    문장 3 : i am sad sad -> [1, 1, 0, 2]\n",
    "    \n",
    "  indexing 예시)\n",
    "    x_data indexing 하기 전 : Go until jurong point, crazy.. Available only in bugis n great world la e buffet... Cine there got amore wat...\n",
    "    x_data indexing 하기 후 : [0.0, 0.0, 0.0, 0.0, 0.0, 0.0, 0.0, 0.0, 1.0, 0.0, 0.0, 0.0, 0.0, 0.0, 0.0, 0.0, 0.0, 0.0, 0.0, 0.0, 0.0, 0.0, 0.0, 0.0, 0.0, 0.0, 0.0, 0.0, 0.0, 0.0, 0.0, 0.0, 0.0, 0.0, 0.0, 0.0, 0.0, 0.0, 0.0, 0.0, 0.0, 0.0, 0.0, 0.0, 1.0, 0.0, 0.0, 0.0, 0.0, 0.0, 0.0, 0.0, 0.0, 0.0, 1.0, 0.0, 0.0, 0.0, 0.0, 0.0, 0.0, 0.0, 0.0, 1.0, 0.0, 0.0, 0.0, 0.0, 1.0, 0.0, 0.0, 0.0, 0.0, 0.0, 0.0, 0.0, 0.0, 0.0, 0.0, 0.0, 0.0, 0.0, 0.0, 0.0, 0.0, 0.0, 0.0, 0.0, 0.0, 1.0, 0.0, 0.0, 0.0, 0.0, 0.0, 0.0, 0.0, 0.0, 0.0, 0.0, 0.0, 0.0, 0.0, 0.0, 0.0, 0.0, 0.0, 0.0, 0.0, 0.0, 0.0, 0.0, 0.0, 0.0, 0.0, 0.0, 0.0, 0.0, 0.0, 1.0, 0.0, 0.0, 0.0, 0.0, 0.0, 0.0, 0.0, 1.0, 0.0, 0.0, 0.0, 0.0, 0.0, 0.0, 0.0, 0.0, 0.0, 0.0, 0.0, 0.0, 0.0, 0.0, 0.0, 0.0, 0.0, 0.0, 0.0, 0.0, 0.0, 0.0, 0.0, 0.0, 0.0, 0.0, 0.0, 0.0, 0.0, 0.0, 0.0, 0.0, 0.0, 0.0, 0.0, 0.0, 0.0, 0.0, 0.0, 0.0, 0.0, 0.0, 0.0, 0.0, 0.0, 0.0, 0.0, 0.0, 0.0, 0.0, 0.0, 0.0, 0.0, 0.0, 0.0, 0.0, 0.0, 0.0, 0.0, 0.0, 0.0, 0.0, 0.0, 0.0, 0.0, 0.0, 0.0, 0.0, 0.0, 0.0, 0.0, 0.0, 0.0, 0.0, 0.0, 0.0, 0.0, 0.0, 0.0, 0.0, 0.0, 0.0, 0.0, 0.0, 0.0, 0.0, 0.0, 0.0, 0.0, 0.0, 0.0, 1.0, 0.0, 0.0, 0.0, 0.0, 0.0, 0.0, 0.0, 0.0, 0.0, 0.0, 0.0, 0.0, 0.0, 0.0, 0.0, 0.0, 0.0, 0.0, 0.0, 0.0, 0.0, 0.0, 0.0, 0.0, 0.0, 0.0, 0.0, 0.0, 0.0, 0.0, 0.0, 0.0, 0.0, 0.0, 0.0, 0.0, 0.0, 0.0, 0.0, 1.0, 0.0, 0.0, 0.0, 0.0, 0.0, 0.0, 0.0, 0.0, 0.0, 0.0, 0.0, 0.0, 0.0, 0.0, 0.0, 0.0, 0.0, 0.0, 0.0, 0.0, 0.0, 0.0, 0.0, 0.0, 0.0, 0.0, 0.0, 0.0, 0.0, 0.0, 0.0, 0.0, 0.0, 0.0, 0.0, 0.0, 0.0, 0.0, 0.0, 0.0]\n",
    "    y_data indexing 하기 전 : ham\n",
    "    y_data indexing 하기 후 : 1\n",
    "</pre>"
   ]
  },
  {
   "cell_type": "code",
   "execution_count": 4,
   "metadata": {
    "colab": {
     "base_uri": "https://localhost:8080/",
     "height": 110
    },
    "colab_type": "code",
    "executionInfo": {
     "elapsed": 676,
     "status": "ok",
     "timestamp": 1599136367237,
     "user": {
      "displayName": "장영진",
      "photoUrl": "",
      "userId": "16685945690070219700"
     },
     "user_tz": -540
    },
    "id": "YEagO2Q0GOBM",
    "outputId": "dd5f68fe-5f17-4e7c-f382-769fed1d87a6"
   },
   "outputs": [
    {
     "name": "stdout",
     "output_type": "stream",
     "text": [
      "x_data indexing 전 : Go until jurong point, crazy.. Available only in bugis n great world la e buffet... Cine there got amore wat...\n",
      "x_data indexing 후 : [0.0, 0.0, 0.0, 0.0, 0.0, 0.0, 0.0, 0.0, 1.0, 0.0, 0.0, 0.0, 0.0, 0.0, 0.0, 0.0, 0.0, 0.0, 0.0, 0.0, 0.0, 0.0, 0.0, 0.0, 0.0, 0.0, 0.0, 0.0, 0.0, 0.0, 0.0, 0.0, 0.0, 0.0, 0.0, 0.0, 0.0, 0.0, 0.0, 0.0, 0.0, 0.0, 0.0, 0.0, 1.0, 0.0, 0.0, 0.0, 0.0, 0.0, 0.0, 0.0, 0.0, 0.0, 1.0, 0.0, 0.0, 0.0, 0.0, 0.0, 0.0, 0.0, 0.0, 1.0, 0.0, 0.0, 0.0, 0.0, 1.0, 0.0, 0.0, 0.0, 0.0, 0.0, 0.0, 0.0, 0.0, 0.0, 0.0, 0.0, 0.0, 0.0, 0.0, 0.0, 0.0, 0.0, 0.0, 0.0, 0.0, 1.0, 0.0, 0.0, 0.0, 0.0, 0.0, 0.0, 0.0, 0.0, 0.0, 0.0, 0.0, 0.0, 0.0, 0.0, 0.0, 0.0, 0.0, 0.0, 0.0, 0.0, 0.0, 0.0, 0.0, 0.0, 0.0, 0.0, 0.0, 0.0, 0.0, 1.0, 0.0, 0.0, 0.0, 0.0, 0.0, 0.0, 0.0, 1.0, 0.0, 0.0, 0.0, 0.0, 0.0, 0.0, 0.0, 0.0, 0.0, 0.0, 0.0, 0.0, 0.0, 0.0, 0.0, 0.0, 0.0, 0.0, 0.0, 0.0, 0.0, 0.0, 0.0, 0.0, 0.0, 0.0, 0.0, 0.0, 0.0, 0.0, 0.0, 0.0, 0.0, 0.0, 0.0, 0.0, 0.0, 0.0, 0.0, 0.0, 0.0, 0.0, 0.0, 0.0, 0.0, 0.0, 0.0, 0.0, 0.0, 0.0, 0.0, 0.0, 0.0, 0.0, 0.0, 0.0, 0.0, 0.0, 0.0, 0.0, 0.0, 0.0, 0.0, 0.0, 0.0, 0.0, 0.0, 0.0, 0.0, 0.0, 0.0, 0.0, 0.0, 0.0, 0.0, 0.0, 0.0, 0.0, 0.0, 0.0, 0.0, 0.0, 0.0, 0.0, 0.0, 0.0, 0.0, 0.0, 0.0, 0.0, 0.0, 1.0, 0.0, 0.0, 0.0, 0.0, 0.0, 0.0, 0.0, 0.0, 0.0, 0.0, 0.0, 0.0, 0.0, 0.0, 0.0, 0.0, 0.0, 0.0, 0.0, 0.0, 0.0, 0.0, 0.0, 0.0, 0.0, 0.0, 0.0, 0.0, 0.0, 0.0, 0.0, 0.0, 0.0, 0.0, 0.0, 0.0, 0.0, 0.0, 0.0, 1.0, 0.0, 0.0, 0.0, 0.0, 0.0, 0.0, 0.0, 0.0, 0.0, 0.0, 0.0, 0.0, 0.0, 0.0, 0.0, 0.0, 0.0, 0.0, 0.0, 0.0, 0.0, 0.0, 0.0, 0.0, 0.0, 0.0, 0.0, 0.0, 0.0, 0.0, 0.0, 0.0, 0.0, 0.0, 0.0, 0.0, 0.0, 0.0, 0.0, 0.0]\n",
      "y_data indexing 전 : ham\n",
      "y_data indexing 후 : 1\n"
     ]
    }
   ],
   "source": [
    "from keras.preprocessing.text import Tokenizer\n",
    "\n",
    "\n",
    "# spam, ham 라벨을 대응하는 index로 치환하기위한 딕셔너리\n",
    "label2index = {'spam':0, 'ham':1}\n",
    "index2label = {0:\"spam\", 1:\"ham\"}\n",
    "\n",
    "# indexing 한 데이터를 넣을 리스트 선언\n",
    "indexing_x_data, indexing_y_data = [], []\n",
    "\n",
    "for label in y_data:\n",
    "  indexing_y_data.append(label2index[label])\n",
    "\n",
    "tokenizer = Tokenizer(num_words=300)\n",
    "\n",
    "# x_data를 사용하여 딕셔너리 생성\n",
    "tokenizer.fit_on_texts(x_data)                \n",
    "\n",
    "# x_data에 있는 각 문장들을 one-hot 벡터의 합으로 치환하고 그 결과값을 indexing_x_data에 저장\n",
    "indexing_x_data = tokenizer.texts_to_matrix(x_data, mode='count').tolist()\n",
    "\n",
    "print(\"x_data indexing 전 : \" + str(x_data[0]))\n",
    "print(\"x_data indexing 후 : \" + str(indexing_x_data[0]))\n",
    "print(\"y_data indexing 전 : \" + str(y_data[0]))\n",
    "print(\"y_data indexing 후 : \" + str(indexing_y_data[0]))"
   ]
  },
  {
   "cell_type": "markdown",
   "metadata": {
    "colab_type": "text",
    "id": "nN5GGyQI_IpT"
   },
   "source": [
    "<h2>SVM 모델 학습</h2>\n",
    "\n",
    "<pre>    \n",
    "<b>1. 입력 데이터를 9 대 1 비율로 나누어 학습, 평가에 사용</b>\n",
    "  \n",
    "<b>2. svm.fit(x, y) 함수를 사용하여 SVM 모델 학습</b>\n",
    "  svm.fit(x, y)\n",
    "  args\n",
    "    x : indexing 된 문장들이 있는 리스트\n",
    "    y : x의 각 문장에 대응하는 라벨이 있는 리스트\n",
    "  return : \n",
    "    X\n",
    "</pre>"
   ]
  },
  {
   "cell_type": "code",
   "execution_count": 5,
   "metadata": {
    "colab": {
     "base_uri": "https://localhost:8080/",
     "height": 163
    },
    "colab_type": "code",
    "executionInfo": {
     "elapsed": 1444,
     "status": "ok",
     "timestamp": 1599136372290,
     "user": {
      "displayName": "장영진",
      "photoUrl": "",
      "userId": "16685945690070219700"
     },
     "user_tz": -540
    },
    "id": "RYNBrDnzGO-5",
    "outputId": "15650fb4-5bd5-49f8-f7cc-0e54bb168396"
   },
   "outputs": [
    {
     "name": "stdout",
     "output_type": "stream",
     "text": [
      "train_x의 개수 : 1350\n",
      "train_y의 개수 : 1350\n",
      "test_x의 개수 : 150\n",
      "test_y의 개수 : 150\n"
     ]
    },
    {
     "data": {
      "text/plain": [
       "SVC(C=1.0, break_ties=False, cache_size=200, class_weight=None, coef0=0.0,\n",
       "    decision_function_shape='ovr', degree=3, gamma='scale', kernel='rbf',\n",
       "    max_iter=-1, probability=False, random_state=None, shrinking=True,\n",
       "    tol=0.001, verbose=False)"
      ]
     },
     "execution_count": 5,
     "metadata": {
      "tags": []
     },
     "output_type": "execute_result"
    }
   ],
   "source": [
    "from sklearn.svm import SVC\n",
    "\n",
    "\n",
    "# 전체 데이터를 9:1의 비율로 나누어 학습 및 평가 데이터로 사용\n",
    "number_of_train_data = int(len(indexing_x_data)*0.9)\n",
    "\n",
    "train_x, train_y = indexing_x_data[:number_of_train_data], indexing_y_data[:number_of_train_data]\n",
    "test_x, test_y = indexing_x_data[number_of_train_data:], indexing_y_data[number_of_train_data:]\n",
    "\n",
    "print(\"train_x의 개수 : \" + str(len(train_x)))\n",
    "print(\"train_y의 개수 : \" + str(len(train_y)))\n",
    "print(\"test_x의 개수 : \" + str(len(test_x)))\n",
    "print(\"test_y의 개수 : \" + str(len(test_y)))\n",
    "\n",
    "svm = SVC(kernel='rbf')\n",
    "svm.fit(train_x, train_y)"
   ]
  },
  {
   "cell_type": "markdown",
   "metadata": {
    "colab_type": "text",
    "id": "l8Ez7hULOckE"
   },
   "source": [
    "<h2>SVM 모델을 이용한 평가</h2>\n",
    "\n",
    "<pre>\n",
    "<b>1. svm.predict(data) 함수를 사용하여 SVM 모델을 이용하여 평가</b>\n",
    "  \n",
    "  svm.predict(data)\n",
    "  args\n",
    "    data : indexing 된 문장들이 있는 리스트\n",
    "  return : \n",
    "    입력 문장들에 대한 모델의 출력 라벨 리스트\n",
    "    \n",
    "<b>2. 성능 측정</b>\n",
    "  정답 라벨과 모델의 출력 라벨을 비교하여 성능 측정\n",
    "  \n",
    "<b>3. tokenizer.sequences_to_texts(data) 함수를 이용하여 indexing 된 데이터를 단어로 치환</b>\n",
    "\n",
    "  tokenizer.sequences_to_texts(data)\n",
    "  args\n",
    "    data : indexing 된 리스트\n",
    "  return : \n",
    "    단어로 치환된 리스트\n",
    "    \n",
    "  예시)\n",
    "    [38, 93, 239, 240, 241, 242, 53, 11, 243, 72, 94, 244, 245, 126, 246, 247, 73, 74, 248, 127] -> Go until jurong point, crazy.. Available only in bugis n great world la e buffet... Cine there got amore wat...\n",
    "    \n",
    "<b>4. 입력 문장에 대한 모델의 출력과 정답 출력</b>\n",
    "\n",
    "</pre>"
   ]
  },
  {
   "cell_type": "code",
   "execution_count": 6,
   "metadata": {
    "colab": {
     "base_uri": "https://localhost:8080/",
     "height": 399
    },
    "colab_type": "code",
    "executionInfo": {
     "elapsed": 584,
     "status": "ok",
     "timestamp": 1599136413087,
     "user": {
      "displayName": "장영진",
      "photoUrl": "",
      "userId": "16685945690070219700"
     },
     "user_tz": -540
    },
    "id": "gONe3GnfGQcu",
    "outputId": "8927ef2c-b123-44c3-815d-b5d8ffd91566"
   },
   "outputs": [
    {
     "name": "stdout",
     "output_type": "stream",
     "text": [
      "Accuracy: 0.95\n",
      "\n",
      "문장 :  Go until jurong point, crazy.. Available only in bugis n great world la e buffet... Cine there got amore wat...\n",
      "정답 :  spam\n",
      "모델 출력 :  spam\n",
      "\n",
      "문장 :  Ok lar... Joking wif u oni...\n",
      "정답 :  ham\n",
      "모델 출력 :  ham\n",
      "\n",
      "문장 :  Free entry in 2 a wkly comp to win FA Cup final tkts 21st May 2005. Text FA to 87121 to receive entry question(std txt rate)T&C's apply 08452810075over18's\n",
      "정답 :  ham\n",
      "모델 출력 :  ham\n",
      "\n",
      "문장 :  U dun say so early hor... U c already then say...\n",
      "정답 :  ham\n",
      "모델 출력 :  ham\n",
      "\n",
      "문장 :  Nah I don't think he goes to usf, he lives around here though\n",
      "정답 :  ham\n",
      "모델 출력 :  ham\n"
     ]
    }
   ],
   "source": [
    "from sklearn.metrics import accuracy_score\n",
    "\n",
    "\n",
    "predict = svm.predict(test_x)\n",
    "\n",
    "print('Accuracy: %.2f' % accuracy_score(test_y, predict))\n",
    "for index in range(len(x_data[number_of_train_data:number_of_train_data+5])):\n",
    "  print()\n",
    "  print(\"문장 : \", x_data[index])\n",
    "  print(\"정답 : \", index2label[test_y[index]])\n",
    "  print(\"모델 출력 : \", index2label[predict[index]])"
   ]
  },
  {
   "cell_type": "markdown",
   "metadata": {
    "colab_type": "text",
    "id": "dg4k7wt9pjg_"
   },
   "source": [
    "<h2>과제</h2>\n",
    "\n",
    "<pre>\n",
    "<b>1. 카이제곱 통계량을 이용하여 분류할 각 클래스와 관련된 단어를 추출</b>\n",
    "  \n",
    "  카이제곱 통계량 수식(w, c) = ( (A + B + C + D) x ((AD-BC) x (AD-BC)) ) / ( (A+B) x (A+C) x (B+D) x (C+D) )\n",
    "\n",
    "  이 때, \n",
    "    A = 클래스 c에 대응하는 문서 중에서 단어 w를 포함하고 있는 문서의 수\n",
    "    B = 클래스 c 이외의 문서 중에서 단어 w를 포함하고 있는 문서의 수\n",
    "    C = 클래스 c에 속한 문서 중에서 단어 w를 포함하고 있지 않은 문서의 수\n",
    "    D = 클래스 c 이외의 문서 중에서 단어 w를 포함하고 있지 않은 문서의 수\n",
    "\n",
    "  이를 사용하여 계산한 카이제곱 점수를 내림차순으로 정렬하여 상위 n개의 단어 추출하여 클래스별 자질 사전 생성\n",
    " \n",
    "</pre>"
   ]
  },
  {
   "cell_type": "code",
   "execution_count": null,
   "metadata": {
    "colab": {},
    "colab_type": "code",
    "id": "nDPBXdge8x5c"
   },
   "outputs": [],
   "source": []
  }
 ],
 "metadata": {
  "colab": {
   "collapsed_sections": [],
   "name": "week5.ipynb",
   "provenance": []
  },
  "kernelspec": {
   "display_name": "Python 3",
   "language": "python",
   "name": "python3"
  },
  "language_info": {
   "codemirror_mode": {
    "name": "ipython",
    "version": 3
   },
   "file_extension": ".py",
   "mimetype": "text/x-python",
   "name": "python",
   "nbconvert_exporter": "python",
   "pygments_lexer": "ipython3",
   "version": "3.6.9"
  }
 },
 "nbformat": 4,
 "nbformat_minor": 1
}
